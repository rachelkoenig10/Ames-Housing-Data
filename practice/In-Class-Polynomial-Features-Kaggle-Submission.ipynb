{
 "cells": [
  {
   "cell_type": "markdown",
   "metadata": {},
   "source": [
    "### Ames 2: The Revisting"
   ]
  },
  {
   "cell_type": "code",
   "execution_count": 1,
   "metadata": {},
   "outputs": [
    {
     "name": "stdout",
     "output_type": "stream",
     "text": [
      "Ames-EDA.ipynb                    submission.csv\r\n",
      "EDA-function .ipynb               submission2.csv\r\n",
      "Housing_mob (1).ipynb             submission3.csv\r\n",
      "\u001b[34mUntitled Folder\u001b[m\u001b[m/                  submission4.csv\r\n",
      "ames-attempts-4-5.ipynb           \u001b[31mtest.csv\u001b[m\u001b[m*\r\n",
      "attempt-#2.ipynb                  test_clean.csv\r\n",
      "project_2_aims- attempt-#1.ipynb  \u001b[31mtrain.csv\u001b[m\u001b[m*\r\n",
      "\u001b[31msample_sub_reg.csv\u001b[m\u001b[m*               train_clean.csv\r\n"
     ]
    }
   ],
   "source": [
    "%ls"
   ]
  },
  {
   "cell_type": "markdown",
   "metadata": {},
   "source": [
    "Imports"
   ]
  },
  {
   "cell_type": "code",
   "execution_count": 2,
   "metadata": {},
   "outputs": [],
   "source": [
    "import pandas as pd\n",
    "import seaborn as sns\n",
    "from sklearn.linear_model import LinearRegression\n",
    "from sklearn.model_selection import train_test_split, cross_val_score\n",
    "from sklearn.metrics import mean_squared_error\n",
    "from sklearn.preprocessing import PolynomialFeatures"
   ]
  },
  {
   "cell_type": "markdown",
   "metadata": {},
   "source": [
    "Load the data"
   ]
  },
  {
   "cell_type": "code",
   "execution_count": 3,
   "metadata": {},
   "outputs": [],
   "source": [
    "train = pd.read_csv('train.csv')\n",
    "test = pd.read_csv('test.csv')"
   ]
  },
  {
   "cell_type": "markdown",
   "metadata": {},
   "source": [
    "EDA"
   ]
  },
  {
   "cell_type": "code",
   "execution_count": 4,
   "metadata": {},
   "outputs": [
    {
     "data": {
      "text/plain": [
       "Index(['Id', 'PID', 'MS SubClass', 'MS Zoning', 'Lot Frontage', 'Lot Area',\n",
       "       'Street', 'Alley', 'Lot Shape', 'Land Contour', 'Utilities',\n",
       "       'Lot Config', 'Land Slope', 'Neighborhood', 'Condition 1',\n",
       "       'Condition 2', 'Bldg Type', 'House Style', 'Overall Qual',\n",
       "       'Overall Cond', 'Year Built', 'Year Remod/Add', 'Roof Style',\n",
       "       'Roof Matl', 'Exterior 1st', 'Exterior 2nd', 'Mas Vnr Type',\n",
       "       'Mas Vnr Area', 'Exter Qual', 'Exter Cond', 'Foundation', 'Bsmt Qual',\n",
       "       'Bsmt Cond', 'Bsmt Exposure', 'BsmtFin Type 1', 'BsmtFin SF 1',\n",
       "       'BsmtFin Type 2', 'BsmtFin SF 2', 'Bsmt Unf SF', 'Total Bsmt SF',\n",
       "       'Heating', 'Heating QC', 'Central Air', 'Electrical', '1st Flr SF',\n",
       "       '2nd Flr SF', 'Low Qual Fin SF', 'Gr Liv Area', 'Bsmt Full Bath',\n",
       "       'Bsmt Half Bath', 'Full Bath', 'Half Bath', 'Bedroom AbvGr',\n",
       "       'Kitchen AbvGr', 'Kitchen Qual', 'TotRms AbvGrd', 'Functional',\n",
       "       'Fireplaces', 'Fireplace Qu', 'Garage Type', 'Garage Yr Blt',\n",
       "       'Garage Finish', 'Garage Cars', 'Garage Area', 'Garage Qual',\n",
       "       'Garage Cond', 'Paved Drive', 'Wood Deck SF', 'Open Porch SF',\n",
       "       'Enclosed Porch', '3Ssn Porch', 'Screen Porch', 'Pool Area', 'Pool QC',\n",
       "       'Fence', 'Misc Feature', 'Misc Val', 'Mo Sold', 'Yr Sold', 'Sale Type',\n",
       "       'SalePrice'],\n",
       "      dtype='object')"
      ]
     },
     "execution_count": 4,
     "metadata": {},
     "output_type": "execute_result"
    }
   ],
   "source": [
    "train.columns"
   ]
  },
  {
   "cell_type": "code",
   "execution_count": 5,
   "metadata": {},
   "outputs": [],
   "source": [
    "#good columns that we care about\n",
    "good_cols = ['SalePrice', 'Overall Qual', 'Full Bath', 'Garage Area', 'Lot Area', 'Enclosed Porch', 'Kitchen AbvGr']"
   ]
  },
  {
   "cell_type": "code",
   "execution_count": 6,
   "metadata": {},
   "outputs": [
    {
     "data": {
      "text/html": [
       "<div>\n",
       "<style scoped>\n",
       "    .dataframe tbody tr th:only-of-type {\n",
       "        vertical-align: middle;\n",
       "    }\n",
       "\n",
       "    .dataframe tbody tr th {\n",
       "        vertical-align: top;\n",
       "    }\n",
       "\n",
       "    .dataframe thead th {\n",
       "        text-align: right;\n",
       "    }\n",
       "</style>\n",
       "<table border=\"1\" class=\"dataframe\">\n",
       "  <thead>\n",
       "    <tr style=\"text-align: right;\">\n",
       "      <th></th>\n",
       "      <th>SalePrice</th>\n",
       "      <th>Overall Qual</th>\n",
       "      <th>Full Bath</th>\n",
       "      <th>Garage Area</th>\n",
       "      <th>Lot Area</th>\n",
       "      <th>Enclosed Porch</th>\n",
       "      <th>Kitchen AbvGr</th>\n",
       "    </tr>\n",
       "  </thead>\n",
       "  <tbody>\n",
       "    <tr>\n",
       "      <th>0</th>\n",
       "      <td>130500</td>\n",
       "      <td>6</td>\n",
       "      <td>2</td>\n",
       "      <td>475.0</td>\n",
       "      <td>13517</td>\n",
       "      <td>0</td>\n",
       "      <td>1</td>\n",
       "    </tr>\n",
       "    <tr>\n",
       "      <th>1</th>\n",
       "      <td>220000</td>\n",
       "      <td>7</td>\n",
       "      <td>2</td>\n",
       "      <td>559.0</td>\n",
       "      <td>11492</td>\n",
       "      <td>0</td>\n",
       "      <td>1</td>\n",
       "    </tr>\n",
       "    <tr>\n",
       "      <th>2</th>\n",
       "      <td>109000</td>\n",
       "      <td>5</td>\n",
       "      <td>1</td>\n",
       "      <td>246.0</td>\n",
       "      <td>7922</td>\n",
       "      <td>0</td>\n",
       "      <td>1</td>\n",
       "    </tr>\n",
       "    <tr>\n",
       "      <th>3</th>\n",
       "      <td>174000</td>\n",
       "      <td>5</td>\n",
       "      <td>2</td>\n",
       "      <td>400.0</td>\n",
       "      <td>9802</td>\n",
       "      <td>0</td>\n",
       "      <td>1</td>\n",
       "    </tr>\n",
       "    <tr>\n",
       "      <th>4</th>\n",
       "      <td>138500</td>\n",
       "      <td>6</td>\n",
       "      <td>2</td>\n",
       "      <td>484.0</td>\n",
       "      <td>14235</td>\n",
       "      <td>0</td>\n",
       "      <td>1</td>\n",
       "    </tr>\n",
       "  </tbody>\n",
       "</table>\n",
       "</div>"
      ],
      "text/plain": [
       "   SalePrice  Overall Qual  Full Bath  Garage Area  Lot Area  Enclosed Porch  \\\n",
       "0     130500             6          2        475.0     13517               0   \n",
       "1     220000             7          2        559.0     11492               0   \n",
       "2     109000             5          1        246.0      7922               0   \n",
       "3     174000             5          2        400.0      9802               0   \n",
       "4     138500             6          2        484.0     14235               0   \n",
       "\n",
       "   Kitchen AbvGr  \n",
       "0              1  \n",
       "1              1  \n",
       "2              1  \n",
       "3              1  \n",
       "4              1  "
      ]
     },
     "execution_count": 6,
     "metadata": {},
     "output_type": "execute_result"
    }
   ],
   "source": [
    "train[good_cols].head()"
   ]
  },
  {
   "cell_type": "code",
   "execution_count": 7,
   "metadata": {},
   "outputs": [
    {
     "data": {
      "text/plain": [
       "SalePrice         0\n",
       "Overall Qual      0\n",
       "Full Bath         0\n",
       "Garage Area       1\n",
       "Lot Area          0\n",
       "Enclosed Porch    0\n",
       "Kitchen AbvGr     0\n",
       "dtype: int64"
      ]
     },
     "execution_count": 7,
     "metadata": {},
     "output_type": "execute_result"
    }
   ],
   "source": [
    "train[good_cols].isnull().sum()"
   ]
  },
  {
   "cell_type": "code",
   "execution_count": 8,
   "metadata": {},
   "outputs": [],
   "source": [
    "train.dropna(subset=['Garage Area'], inplace=True)"
   ]
  },
  {
   "cell_type": "code",
   "execution_count": 9,
   "metadata": {},
   "outputs": [
    {
     "data": {
      "text/plain": [
       "SalePrice         0\n",
       "Overall Qual      0\n",
       "Full Bath         0\n",
       "Garage Area       0\n",
       "Lot Area          0\n",
       "Enclosed Porch    0\n",
       "Kitchen AbvGr     0\n",
       "dtype: int64"
      ]
     },
     "execution_count": 9,
     "metadata": {},
     "output_type": "execute_result"
    }
   ],
   "source": [
    "train[good_cols].isnull().sum()"
   ]
  },
  {
   "cell_type": "code",
   "execution_count": 10,
   "metadata": {},
   "outputs": [
    {
     "data": {
      "text/plain": [
       "<matplotlib.axes._subplots.AxesSubplot at 0x1a1c8a5780>"
      ]
     },
     "execution_count": 10,
     "metadata": {},
     "output_type": "execute_result"
    },
    {
     "data": {
      "image/png": "[encoded data removed]",
      "text/plain": [
       "<Figure size 432x288 with 2 Axes>"
      ]
     },
     "metadata": {
      "needs_background": "light"
     },
     "output_type": "display_data"
    }
   ],
   "source": [
    "#check correlations\n",
    "sns.heatmap(train[good_cols].corr(), annot=True, cmap='coolwarm')"
   ]
  },
  {
   "cell_type": "code",
   "execution_count": 11,
   "metadata": {},
   "outputs": [
    {
     "data": {
      "text/plain": [
       "['SalePrice',\n",
       " 'Overall Qual',\n",
       " 'Full Bath',\n",
       " 'Garage Area',\n",
       " 'Lot Area',\n",
       " 'Enclosed Porch',\n",
       " 'Kitchen AbvGr']"
      ]
     },
     "execution_count": 11,
     "metadata": {},
     "output_type": "execute_result"
    }
   ],
   "source": [
    "good_cols"
   ]
  },
  {
   "cell_type": "code",
   "execution_count": 12,
   "metadata": {},
   "outputs": [],
   "source": [
    "#create features list using list comprehension \n",
    "\n",
    "features = [col for col in good_cols if col != 'SalePrice']"
   ]
  },
  {
   "cell_type": "code",
   "execution_count": 13,
   "metadata": {},
   "outputs": [],
   "source": [
    "# set feature matrix and target\n",
    "X = train[features]\n",
    "y = train['SalePrice']"
   ]
  },
  {
   "cell_type": "code",
   "execution_count": 14,
   "metadata": {},
   "outputs": [],
   "source": [
    "### polynomial features\n",
    "# instantiate\n",
    "poly = PolynomialFeatures(include_bias=False)\n",
    "\n",
    "# fit transform\n",
    "X_poly = poly.fit_transform(X)\n",
    "\n",
    "# save the feature names\n",
    "poly_feat = poly.get_feature_names(features)\n"
   ]
  },
  {
   "cell_type": "code",
   "execution_count": 15,
   "metadata": {},
   "outputs": [
    {
     "data": {
      "text/plain": [
       "['Overall Qual',\n",
       " 'Full Bath',\n",
       " 'Garage Area',\n",
       " 'Lot Area',\n",
       " 'Enclosed Porch',\n",
       " 'Kitchen AbvGr',\n",
       " 'Overall Qual^2',\n",
       " 'Overall Qual Full Bath',\n",
       " 'Overall Qual Garage Area',\n",
       " 'Overall Qual Lot Area',\n",
       " 'Overall Qual Enclosed Porch',\n",
       " 'Overall Qual Kitchen AbvGr',\n",
       " 'Full Bath^2',\n",
       " 'Full Bath Garage Area',\n",
       " 'Full Bath Lot Area',\n",
       " 'Full Bath Enclosed Porch',\n",
       " 'Full Bath Kitchen AbvGr',\n",
       " 'Garage Area^2',\n",
       " 'Garage Area Lot Area',\n",
       " 'Garage Area Enclosed Porch',\n",
       " 'Garage Area Kitchen AbvGr',\n",
       " 'Lot Area^2',\n",
       " 'Lot Area Enclosed Porch',\n",
       " 'Lot Area Kitchen AbvGr',\n",
       " 'Enclosed Porch^2',\n",
       " 'Enclosed Porch Kitchen AbvGr',\n",
       " 'Kitchen AbvGr^2']"
      ]
     },
     "execution_count": 15,
     "metadata": {},
     "output_type": "execute_result"
    }
   ],
   "source": [
    "poly_feat"
   ]
  },
  {
   "cell_type": "code",
   "execution_count": 16,
   "metadata": {},
   "outputs": [
    {
     "data": {
      "text/html": [
       "<div>\n",
       "<style scoped>\n",
       "    .dataframe tbody tr th:only-of-type {\n",
       "        vertical-align: middle;\n",
       "    }\n",
       "\n",
       "    .dataframe tbody tr th {\n",
       "        vertical-align: top;\n",
       "    }\n",
       "\n",
       "    .dataframe thead th {\n",
       "        text-align: right;\n",
       "    }\n",
       "</style>\n",
       "<table border=\"1\" class=\"dataframe\">\n",
       "  <thead>\n",
       "    <tr style=\"text-align: right;\">\n",
       "      <th></th>\n",
       "      <th>Overall Qual</th>\n",
       "      <th>Full Bath</th>\n",
       "      <th>Garage Area</th>\n",
       "      <th>Lot Area</th>\n",
       "      <th>Enclosed Porch</th>\n",
       "      <th>Kitchen AbvGr</th>\n",
       "      <th>Overall Qual^2</th>\n",
       "      <th>Overall Qual Full Bath</th>\n",
       "      <th>Overall Qual Garage Area</th>\n",
       "      <th>Overall Qual Lot Area</th>\n",
       "      <th>...</th>\n",
       "      <th>Garage Area^2</th>\n",
       "      <th>Garage Area Lot Area</th>\n",
       "      <th>Garage Area Enclosed Porch</th>\n",
       "      <th>Garage Area Kitchen AbvGr</th>\n",
       "      <th>Lot Area^2</th>\n",
       "      <th>Lot Area Enclosed Porch</th>\n",
       "      <th>Lot Area Kitchen AbvGr</th>\n",
       "      <th>Enclosed Porch^2</th>\n",
       "      <th>Enclosed Porch Kitchen AbvGr</th>\n",
       "      <th>Kitchen AbvGr^2</th>\n",
       "    </tr>\n",
       "  </thead>\n",
       "  <tbody>\n",
       "    <tr>\n",
       "      <th>0</th>\n",
       "      <td>6.0</td>\n",
       "      <td>2.0</td>\n",
       "      <td>475.0</td>\n",
       "      <td>13517.0</td>\n",
       "      <td>0.0</td>\n",
       "      <td>1.0</td>\n",
       "      <td>36.0</td>\n",
       "      <td>12.0</td>\n",
       "      <td>2850.0</td>\n",
       "      <td>81102.0</td>\n",
       "      <td>...</td>\n",
       "      <td>225625.0</td>\n",
       "      <td>6420575.0</td>\n",
       "      <td>0.0</td>\n",
       "      <td>475.0</td>\n",
       "      <td>182709289.0</td>\n",
       "      <td>0.0</td>\n",
       "      <td>13517.0</td>\n",
       "      <td>0.0</td>\n",
       "      <td>0.0</td>\n",
       "      <td>1.0</td>\n",
       "    </tr>\n",
       "    <tr>\n",
       "      <th>1</th>\n",
       "      <td>7.0</td>\n",
       "      <td>2.0</td>\n",
       "      <td>559.0</td>\n",
       "      <td>11492.0</td>\n",
       "      <td>0.0</td>\n",
       "      <td>1.0</td>\n",
       "      <td>49.0</td>\n",
       "      <td>14.0</td>\n",
       "      <td>3913.0</td>\n",
       "      <td>80444.0</td>\n",
       "      <td>...</td>\n",
       "      <td>312481.0</td>\n",
       "      <td>6424028.0</td>\n",
       "      <td>0.0</td>\n",
       "      <td>559.0</td>\n",
       "      <td>132066064.0</td>\n",
       "      <td>0.0</td>\n",
       "      <td>11492.0</td>\n",
       "      <td>0.0</td>\n",
       "      <td>0.0</td>\n",
       "      <td>1.0</td>\n",
       "    </tr>\n",
       "    <tr>\n",
       "      <th>2</th>\n",
       "      <td>5.0</td>\n",
       "      <td>1.0</td>\n",
       "      <td>246.0</td>\n",
       "      <td>7922.0</td>\n",
       "      <td>0.0</td>\n",
       "      <td>1.0</td>\n",
       "      <td>25.0</td>\n",
       "      <td>5.0</td>\n",
       "      <td>1230.0</td>\n",
       "      <td>39610.0</td>\n",
       "      <td>...</td>\n",
       "      <td>60516.0</td>\n",
       "      <td>1948812.0</td>\n",
       "      <td>0.0</td>\n",
       "      <td>246.0</td>\n",
       "      <td>62758084.0</td>\n",
       "      <td>0.0</td>\n",
       "      <td>7922.0</td>\n",
       "      <td>0.0</td>\n",
       "      <td>0.0</td>\n",
       "      <td>1.0</td>\n",
       "    </tr>\n",
       "    <tr>\n",
       "      <th>3</th>\n",
       "      <td>5.0</td>\n",
       "      <td>2.0</td>\n",
       "      <td>400.0</td>\n",
       "      <td>9802.0</td>\n",
       "      <td>0.0</td>\n",
       "      <td>1.0</td>\n",
       "      <td>25.0</td>\n",
       "      <td>10.0</td>\n",
       "      <td>2000.0</td>\n",
       "      <td>49010.0</td>\n",
       "      <td>...</td>\n",
       "      <td>160000.0</td>\n",
       "      <td>3920800.0</td>\n",
       "      <td>0.0</td>\n",
       "      <td>400.0</td>\n",
       "      <td>96079204.0</td>\n",
       "      <td>0.0</td>\n",
       "      <td>9802.0</td>\n",
       "      <td>0.0</td>\n",
       "      <td>0.0</td>\n",
       "      <td>1.0</td>\n",
       "    </tr>\n",
       "    <tr>\n",
       "      <th>4</th>\n",
       "      <td>6.0</td>\n",
       "      <td>2.0</td>\n",
       "      <td>484.0</td>\n",
       "      <td>14235.0</td>\n",
       "      <td>0.0</td>\n",
       "      <td>1.0</td>\n",
       "      <td>36.0</td>\n",
       "      <td>12.0</td>\n",
       "      <td>2904.0</td>\n",
       "      <td>85410.0</td>\n",
       "      <td>...</td>\n",
       "      <td>234256.0</td>\n",
       "      <td>6889740.0</td>\n",
       "      <td>0.0</td>\n",
       "      <td>484.0</td>\n",
       "      <td>202635225.0</td>\n",
       "      <td>0.0</td>\n",
       "      <td>14235.0</td>\n",
       "      <td>0.0</td>\n",
       "      <td>0.0</td>\n",
       "      <td>1.0</td>\n",
       "    </tr>\n",
       "  </tbody>\n",
       "</table>\n",
       "<p>5 rows × 27 columns</p>\n",
       "</div>"
      ],
      "text/plain": [
       "   Overall Qual  Full Bath  Garage Area  Lot Area  Enclosed Porch  \\\n",
       "0           6.0        2.0        475.0   13517.0             0.0   \n",
       "1           7.0        2.0        559.0   11492.0             0.0   \n",
       "2           5.0        1.0        246.0    7922.0             0.0   \n",
       "3           5.0        2.0        400.0    9802.0             0.0   \n",
       "4           6.0        2.0        484.0   14235.0             0.0   \n",
       "\n",
       "   Kitchen AbvGr  Overall Qual^2  Overall Qual Full Bath  \\\n",
       "0            1.0            36.0                    12.0   \n",
       "1            1.0            49.0                    14.0   \n",
       "2            1.0            25.0                     5.0   \n",
       "3            1.0            25.0                    10.0   \n",
       "4            1.0            36.0                    12.0   \n",
       "\n",
       "   Overall Qual Garage Area  Overall Qual Lot Area  ...  Garage Area^2  \\\n",
       "0                    2850.0                81102.0  ...       225625.0   \n",
       "1                    3913.0                80444.0  ...       312481.0   \n",
       "2                    1230.0                39610.0  ...        60516.0   \n",
       "3                    2000.0                49010.0  ...       160000.0   \n",
       "4                    2904.0                85410.0  ...       234256.0   \n",
       "\n",
       "   Garage Area Lot Area  Garage Area Enclosed Porch  \\\n",
       "0             6420575.0                         0.0   \n",
       "1             6424028.0                         0.0   \n",
       "2             1948812.0                         0.0   \n",
       "3             3920800.0                         0.0   \n",
       "4             6889740.0                         0.0   \n",
       "\n",
       "   Garage Area Kitchen AbvGr   Lot Area^2  Lot Area Enclosed Porch  \\\n",
       "0                      475.0  182709289.0                      0.0   \n",
       "1                      559.0  132066064.0                      0.0   \n",
       "2                      246.0   62758084.0                      0.0   \n",
       "3                      400.0   96079204.0                      0.0   \n",
       "4                      484.0  202635225.0                      0.0   \n",
       "\n",
       "   Lot Area Kitchen AbvGr  Enclosed Porch^2  Enclosed Porch Kitchen AbvGr  \\\n",
       "0                 13517.0               0.0                           0.0   \n",
       "1                 11492.0               0.0                           0.0   \n",
       "2                  7922.0               0.0                           0.0   \n",
       "3                  9802.0               0.0                           0.0   \n",
       "4                 14235.0               0.0                           0.0   \n",
       "\n",
       "   Kitchen AbvGr^2  \n",
       "0              1.0  \n",
       "1              1.0  \n",
       "2              1.0  \n",
       "3              1.0  \n",
       "4              1.0  \n",
       "\n",
       "[5 rows x 27 columns]"
      ]
     },
     "execution_count": 16,
     "metadata": {},
     "output_type": "execute_result"
    }
   ],
   "source": [
    "poly_df = pd.DataFrame(X_poly, columns=poly_feat)\n",
    "poly_df.head()"
   ]
  },
  {
   "cell_type": "code",
   "execution_count": 17,
   "metadata": {},
   "outputs": [],
   "source": [
    "### join the sale price\n",
    "poly_df = poly_df.join(train['SalePrice'])"
   ]
  },
  {
   "cell_type": "code",
   "execution_count": 18,
   "metadata": {},
   "outputs": [
    {
     "data": {
      "text/plain": [
       "<matplotlib.axes._subplots.AxesSubplot at 0x1091dd780>"
      ]
     },
     "execution_count": 18,
     "metadata": {},
     "output_type": "execute_result"
    },
    {
     "data": {
      "image/png": "[encoded data removed]",
      "text/plain": [
       "<Figure size 432x288 with 2 Axes>"
      ]
     },
     "metadata": {
      "needs_background": "light"
     },
     "output_type": "display_data"
    }
   ],
   "source": [
    "### look at new correlations\n",
    "\n",
    "sns.heatmap(poly_df.corr()[['SalePrice']].sort_values('SalePrice'), annot=True, cmap='YlGnBu')"
   ]
  },
  {
   "cell_type": "markdown",
   "metadata": {},
   "source": [
    "   "
   ]
  },
  {
   "cell_type": "code",
   "execution_count": 19,
   "metadata": {},
   "outputs": [
    {
     "data": {
      "text/plain": [
       "SalePrice                       1\n",
       "Kitchen AbvGr^2                 0\n",
       "Full Bath                       0\n",
       "Garage Area                     0\n",
       "Lot Area                        0\n",
       "Enclosed Porch                  0\n",
       "Kitchen AbvGr                   0\n",
       "Overall Qual^2                  0\n",
       "Overall Qual Full Bath          0\n",
       "Overall Qual Garage Area        0\n",
       "Overall Qual Lot Area           0\n",
       "Overall Qual Enclosed Porch     0\n",
       "Overall Qual Kitchen AbvGr      0\n",
       "Full Bath^2                     0\n",
       "Full Bath Garage Area           0\n",
       "Full Bath Lot Area              0\n",
       "Full Bath Enclosed Porch        0\n",
       "Full Bath Kitchen AbvGr         0\n",
       "Garage Area^2                   0\n",
       "Garage Area Lot Area            0\n",
       "Garage Area Enclosed Porch      0\n",
       "Garage Area Kitchen AbvGr       0\n",
       "Lot Area^2                      0\n",
       "Lot Area Enclosed Porch         0\n",
       "Lot Area Kitchen AbvGr          0\n",
       "Enclosed Porch^2                0\n",
       "Enclosed Porch Kitchen AbvGr    0\n",
       "Overall Qual                    0\n",
       "dtype: int64"
      ]
     },
     "execution_count": 19,
     "metadata": {},
     "output_type": "execute_result"
    }
   ],
   "source": [
    "poly_df.isnull().sum().sort_values(ascending=False)"
   ]
  },
  {
   "cell_type": "code",
   "execution_count": 20,
   "metadata": {},
   "outputs": [
    {
     "data": {
      "text/html": [
       "<div>\n",
       "<style scoped>\n",
       "    .dataframe tbody tr th:only-of-type {\n",
       "        vertical-align: middle;\n",
       "    }\n",
       "\n",
       "    .dataframe tbody tr th {\n",
       "        vertical-align: top;\n",
       "    }\n",
       "\n",
       "    .dataframe thead th {\n",
       "        text-align: right;\n",
       "    }\n",
       "</style>\n",
       "<table border=\"1\" class=\"dataframe\">\n",
       "  <thead>\n",
       "    <tr style=\"text-align: right;\">\n",
       "      <th></th>\n",
       "      <th>Overall Qual</th>\n",
       "      <th>Full Bath</th>\n",
       "      <th>Garage Area</th>\n",
       "      <th>Lot Area</th>\n",
       "      <th>Enclosed Porch</th>\n",
       "      <th>Kitchen AbvGr</th>\n",
       "      <th>Overall Qual^2</th>\n",
       "      <th>Overall Qual Full Bath</th>\n",
       "      <th>Overall Qual Garage Area</th>\n",
       "      <th>Overall Qual Lot Area</th>\n",
       "      <th>...</th>\n",
       "      <th>Garage Area^2</th>\n",
       "      <th>Garage Area Lot Area</th>\n",
       "      <th>Garage Area Enclosed Porch</th>\n",
       "      <th>Garage Area Kitchen AbvGr</th>\n",
       "      <th>Lot Area^2</th>\n",
       "      <th>Lot Area Enclosed Porch</th>\n",
       "      <th>Lot Area Kitchen AbvGr</th>\n",
       "      <th>Enclosed Porch^2</th>\n",
       "      <th>Enclosed Porch Kitchen AbvGr</th>\n",
       "      <th>Kitchen AbvGr^2</th>\n",
       "    </tr>\n",
       "  </thead>\n",
       "  <tbody>\n",
       "    <tr>\n",
       "      <th>0</th>\n",
       "      <td>6.0</td>\n",
       "      <td>2.0</td>\n",
       "      <td>475.0</td>\n",
       "      <td>13517.0</td>\n",
       "      <td>0.0</td>\n",
       "      <td>1.0</td>\n",
       "      <td>36.0</td>\n",
       "      <td>12.0</td>\n",
       "      <td>2850.0</td>\n",
       "      <td>81102.0</td>\n",
       "      <td>...</td>\n",
       "      <td>225625.0</td>\n",
       "      <td>6420575.0</td>\n",
       "      <td>0.0</td>\n",
       "      <td>475.0</td>\n",
       "      <td>182709289.0</td>\n",
       "      <td>0.0</td>\n",
       "      <td>13517.0</td>\n",
       "      <td>0.0</td>\n",
       "      <td>0.0</td>\n",
       "      <td>1.0</td>\n",
       "    </tr>\n",
       "    <tr>\n",
       "      <th>1</th>\n",
       "      <td>7.0</td>\n",
       "      <td>2.0</td>\n",
       "      <td>559.0</td>\n",
       "      <td>11492.0</td>\n",
       "      <td>0.0</td>\n",
       "      <td>1.0</td>\n",
       "      <td>49.0</td>\n",
       "      <td>14.0</td>\n",
       "      <td>3913.0</td>\n",
       "      <td>80444.0</td>\n",
       "      <td>...</td>\n",
       "      <td>312481.0</td>\n",
       "      <td>6424028.0</td>\n",
       "      <td>0.0</td>\n",
       "      <td>559.0</td>\n",
       "      <td>132066064.0</td>\n",
       "      <td>0.0</td>\n",
       "      <td>11492.0</td>\n",
       "      <td>0.0</td>\n",
       "      <td>0.0</td>\n",
       "      <td>1.0</td>\n",
       "    </tr>\n",
       "    <tr>\n",
       "      <th>2</th>\n",
       "      <td>5.0</td>\n",
       "      <td>1.0</td>\n",
       "      <td>246.0</td>\n",
       "      <td>7922.0</td>\n",
       "      <td>0.0</td>\n",
       "      <td>1.0</td>\n",
       "      <td>25.0</td>\n",
       "      <td>5.0</td>\n",
       "      <td>1230.0</td>\n",
       "      <td>39610.0</td>\n",
       "      <td>...</td>\n",
       "      <td>60516.0</td>\n",
       "      <td>1948812.0</td>\n",
       "      <td>0.0</td>\n",
       "      <td>246.0</td>\n",
       "      <td>62758084.0</td>\n",
       "      <td>0.0</td>\n",
       "      <td>7922.0</td>\n",
       "      <td>0.0</td>\n",
       "      <td>0.0</td>\n",
       "      <td>1.0</td>\n",
       "    </tr>\n",
       "    <tr>\n",
       "      <th>3</th>\n",
       "      <td>5.0</td>\n",
       "      <td>2.0</td>\n",
       "      <td>400.0</td>\n",
       "      <td>9802.0</td>\n",
       "      <td>0.0</td>\n",
       "      <td>1.0</td>\n",
       "      <td>25.0</td>\n",
       "      <td>10.0</td>\n",
       "      <td>2000.0</td>\n",
       "      <td>49010.0</td>\n",
       "      <td>...</td>\n",
       "      <td>160000.0</td>\n",
       "      <td>3920800.0</td>\n",
       "      <td>0.0</td>\n",
       "      <td>400.0</td>\n",
       "      <td>96079204.0</td>\n",
       "      <td>0.0</td>\n",
       "      <td>9802.0</td>\n",
       "      <td>0.0</td>\n",
       "      <td>0.0</td>\n",
       "      <td>1.0</td>\n",
       "    </tr>\n",
       "    <tr>\n",
       "      <th>4</th>\n",
       "      <td>6.0</td>\n",
       "      <td>2.0</td>\n",
       "      <td>484.0</td>\n",
       "      <td>14235.0</td>\n",
       "      <td>0.0</td>\n",
       "      <td>1.0</td>\n",
       "      <td>36.0</td>\n",
       "      <td>12.0</td>\n",
       "      <td>2904.0</td>\n",
       "      <td>85410.0</td>\n",
       "      <td>...</td>\n",
       "      <td>234256.0</td>\n",
       "      <td>6889740.0</td>\n",
       "      <td>0.0</td>\n",
       "      <td>484.0</td>\n",
       "      <td>202635225.0</td>\n",
       "      <td>0.0</td>\n",
       "      <td>14235.0</td>\n",
       "      <td>0.0</td>\n",
       "      <td>0.0</td>\n",
       "      <td>1.0</td>\n",
       "    </tr>\n",
       "  </tbody>\n",
       "</table>\n",
       "<p>5 rows × 27 columns</p>\n",
       "</div>"
      ],
      "text/plain": [
       "   Overall Qual  Full Bath  Garage Area  Lot Area  Enclosed Porch  \\\n",
       "0           6.0        2.0        475.0   13517.0             0.0   \n",
       "1           7.0        2.0        559.0   11492.0             0.0   \n",
       "2           5.0        1.0        246.0    7922.0             0.0   \n",
       "3           5.0        2.0        400.0    9802.0             0.0   \n",
       "4           6.0        2.0        484.0   14235.0             0.0   \n",
       "\n",
       "   Kitchen AbvGr  Overall Qual^2  Overall Qual Full Bath  \\\n",
       "0            1.0            36.0                    12.0   \n",
       "1            1.0            49.0                    14.0   \n",
       "2            1.0            25.0                     5.0   \n",
       "3            1.0            25.0                    10.0   \n",
       "4            1.0            36.0                    12.0   \n",
       "\n",
       "   Overall Qual Garage Area  Overall Qual Lot Area  ...  Garage Area^2  \\\n",
       "0                    2850.0                81102.0  ...       225625.0   \n",
       "1                    3913.0                80444.0  ...       312481.0   \n",
       "2                    1230.0                39610.0  ...        60516.0   \n",
       "3                    2000.0                49010.0  ...       160000.0   \n",
       "4                    2904.0                85410.0  ...       234256.0   \n",
       "\n",
       "   Garage Area Lot Area  Garage Area Enclosed Porch  \\\n",
       "0             6420575.0                         0.0   \n",
       "1             6424028.0                         0.0   \n",
       "2             1948812.0                         0.0   \n",
       "3             3920800.0                         0.0   \n",
       "4             6889740.0                         0.0   \n",
       "\n",
       "   Garage Area Kitchen AbvGr   Lot Area^2  Lot Area Enclosed Porch  \\\n",
       "0                      475.0  182709289.0                      0.0   \n",
       "1                      559.0  132066064.0                      0.0   \n",
       "2                      246.0   62758084.0                      0.0   \n",
       "3                      400.0   96079204.0                      0.0   \n",
       "4                      484.0  202635225.0                      0.0   \n",
       "\n",
       "   Lot Area Kitchen AbvGr  Enclosed Porch^2  Enclosed Porch Kitchen AbvGr  \\\n",
       "0                 13517.0               0.0                           0.0   \n",
       "1                 11492.0               0.0                           0.0   \n",
       "2                  7922.0               0.0                           0.0   \n",
       "3                  9802.0               0.0                           0.0   \n",
       "4                 14235.0               0.0                           0.0   \n",
       "\n",
       "   Kitchen AbvGr^2  \n",
       "0              1.0  \n",
       "1              1.0  \n",
       "2              1.0  \n",
       "3              1.0  \n",
       "4              1.0  \n",
       "\n",
       "[5 rows x 27 columns]"
      ]
     },
     "execution_count": 20,
     "metadata": {},
     "output_type": "execute_result"
    }
   ],
   "source": [
    "poly_df[poly_feat].head()"
   ]
  },
  {
   "cell_type": "code",
   "execution_count": 21,
   "metadata": {},
   "outputs": [],
   "source": [
    "#train, test, split\n",
    "X_train, X_holdout, y_train, y_holdout = train_test_split(\n",
    "            poly_df[poly_feat], \n",
    "            y, \n",
    "            random_state=23)"
   ]
  },
  {
   "cell_type": "code",
   "execution_count": 22,
   "metadata": {},
   "outputs": [],
   "source": [
    "#instantiate \n",
    "lr = LinearRegression()"
   ]
  },
  {
   "cell_type": "code",
   "execution_count": 23,
   "metadata": {},
   "outputs": [
    {
     "data": {
      "text/plain": [
       "LinearRegression(copy_X=True, fit_intercept=True, n_jobs=None,\n",
       "         normalize=False)"
      ]
     },
     "execution_count": 23,
     "metadata": {},
     "output_type": "execute_result"
    }
   ],
   "source": [
    "#fit model on training data only\n",
    "lr.fit(X_train, y_train)"
   ]
  },
  {
   "cell_type": "markdown",
   "metadata": {},
   "source": [
    "Model Evaluation"
   ]
  },
  {
   "cell_type": "code",
   "execution_count": 24,
   "metadata": {},
   "outputs": [
    {
     "data": {
      "text/plain": [
       "0.7953143108671988"
      ]
     },
     "execution_count": 24,
     "metadata": {},
     "output_type": "execute_result"
    }
   ],
   "source": [
    "#score model \n",
    "lr.score(X_train, y_train)"
   ]
  },
  {
   "cell_type": "code",
   "execution_count": 25,
   "metadata": {},
   "outputs": [
    {
     "data": {
      "text/plain": [
       "0.8141921863235888"
      ]
     },
     "execution_count": 25,
     "metadata": {},
     "output_type": "execute_result"
    }
   ],
   "source": [
    "#test score\n",
    "lr.score(X_holdout, y_holdout)"
   ]
  },
  {
   "cell_type": "markdown",
   "metadata": {},
   "source": [
    "Cross Validate"
   ]
  },
  {
   "cell_type": "code",
   "execution_count": 26,
   "metadata": {},
   "outputs": [
    {
     "data": {
      "text/plain": [
       "0.7586135269795662"
      ]
     },
     "execution_count": 26,
     "metadata": {},
     "output_type": "execute_result"
    }
   ],
   "source": [
    "cross_val_score(lr, X_train, y_train, cv=6).mean()\n",
    "\n",
    "#With this much range, we want to start digging in more to reduce variance"
   ]
  },
  {
   "cell_type": "code",
   "execution_count": 27,
   "metadata": {},
   "outputs": [
    {
     "data": {
      "text/plain": [
       "0.8272517584778448"
      ]
     },
     "execution_count": 27,
     "metadata": {},
     "output_type": "execute_result"
    }
   ],
   "source": [
    "cross_val_score(lr, X_holdout, y_holdout, cv=5).mean()"
   ]
  },
  {
   "cell_type": "code",
   "execution_count": 28,
   "metadata": {},
   "outputs": [],
   "source": [
    "#We can conclude that we have bias here because our scores are staying the same \n",
    "#but our r2 is still off by quite a bit.\n",
    "#Probably need more predictors/features"
   ]
  },
  {
   "cell_type": "markdown",
   "metadata": {},
   "source": [
    "Predict"
   ]
  },
  {
   "cell_type": "code",
   "execution_count": 29,
   "metadata": {},
   "outputs": [
    {
     "data": {
      "text/plain": [
       "Overall Qual      0\n",
       "Full Bath         0\n",
       "Garage Area       0\n",
       "Lot Area          0\n",
       "Enclosed Porch    0\n",
       "Kitchen AbvGr     0\n",
       "dtype: int64"
      ]
     },
     "execution_count": 29,
     "metadata": {},
     "output_type": "execute_result"
    }
   ],
   "source": [
    "#check test features for nulls\n",
    "test[features].isnull().sum()"
   ]
  },
  {
   "cell_type": "code",
   "execution_count": 30,
   "metadata": {},
   "outputs": [
    {
     "data": {
      "text/html": [
       "<div>\n",
       "<style scoped>\n",
       "    .dataframe tbody tr th:only-of-type {\n",
       "        vertical-align: middle;\n",
       "    }\n",
       "\n",
       "    .dataframe tbody tr th {\n",
       "        vertical-align: top;\n",
       "    }\n",
       "\n",
       "    .dataframe thead th {\n",
       "        text-align: right;\n",
       "    }\n",
       "</style>\n",
       "<table border=\"1\" class=\"dataframe\">\n",
       "  <thead>\n",
       "    <tr style=\"text-align: right;\">\n",
       "      <th></th>\n",
       "      <th>Overall Qual</th>\n",
       "      <th>Full Bath</th>\n",
       "      <th>Garage Area</th>\n",
       "      <th>Lot Area</th>\n",
       "      <th>Enclosed Porch</th>\n",
       "      <th>Kitchen AbvGr</th>\n",
       "      <th>Overall Qual^2</th>\n",
       "      <th>Overall Qual Full Bath</th>\n",
       "      <th>Overall Qual Garage Area</th>\n",
       "      <th>Overall Qual Lot Area</th>\n",
       "      <th>...</th>\n",
       "      <th>Garage Area^2</th>\n",
       "      <th>Garage Area Lot Area</th>\n",
       "      <th>Garage Area Enclosed Porch</th>\n",
       "      <th>Garage Area Kitchen AbvGr</th>\n",
       "      <th>Lot Area^2</th>\n",
       "      <th>Lot Area Enclosed Porch</th>\n",
       "      <th>Lot Area Kitchen AbvGr</th>\n",
       "      <th>Enclosed Porch^2</th>\n",
       "      <th>Enclosed Porch Kitchen AbvGr</th>\n",
       "      <th>Kitchen AbvGr^2</th>\n",
       "    </tr>\n",
       "  </thead>\n",
       "  <tbody>\n",
       "    <tr>\n",
       "      <th>0</th>\n",
       "      <td>6.0</td>\n",
       "      <td>2.0</td>\n",
       "      <td>440.0</td>\n",
       "      <td>9142.0</td>\n",
       "      <td>112.0</td>\n",
       "      <td>2.0</td>\n",
       "      <td>36.0</td>\n",
       "      <td>12.0</td>\n",
       "      <td>2640.0</td>\n",
       "      <td>54852.0</td>\n",
       "      <td>...</td>\n",
       "      <td>193600.0</td>\n",
       "      <td>4022480.0</td>\n",
       "      <td>49280.0</td>\n",
       "      <td>880.0</td>\n",
       "      <td>83576164.0</td>\n",
       "      <td>1023904.0</td>\n",
       "      <td>18284.0</td>\n",
       "      <td>12544.0</td>\n",
       "      <td>224.0</td>\n",
       "      <td>4.0</td>\n",
       "    </tr>\n",
       "    <tr>\n",
       "      <th>1</th>\n",
       "      <td>5.0</td>\n",
       "      <td>2.0</td>\n",
       "      <td>580.0</td>\n",
       "      <td>9662.0</td>\n",
       "      <td>0.0</td>\n",
       "      <td>2.0</td>\n",
       "      <td>25.0</td>\n",
       "      <td>10.0</td>\n",
       "      <td>2900.0</td>\n",
       "      <td>48310.0</td>\n",
       "      <td>...</td>\n",
       "      <td>336400.0</td>\n",
       "      <td>5603960.0</td>\n",
       "      <td>0.0</td>\n",
       "      <td>1160.0</td>\n",
       "      <td>93354244.0</td>\n",
       "      <td>0.0</td>\n",
       "      <td>19324.0</td>\n",
       "      <td>0.0</td>\n",
       "      <td>0.0</td>\n",
       "      <td>4.0</td>\n",
       "    </tr>\n",
       "    <tr>\n",
       "      <th>2</th>\n",
       "      <td>7.0</td>\n",
       "      <td>2.0</td>\n",
       "      <td>426.0</td>\n",
       "      <td>17104.0</td>\n",
       "      <td>0.0</td>\n",
       "      <td>1.0</td>\n",
       "      <td>49.0</td>\n",
       "      <td>14.0</td>\n",
       "      <td>2982.0</td>\n",
       "      <td>119728.0</td>\n",
       "      <td>...</td>\n",
       "      <td>181476.0</td>\n",
       "      <td>7286304.0</td>\n",
       "      <td>0.0</td>\n",
       "      <td>426.0</td>\n",
       "      <td>292546816.0</td>\n",
       "      <td>0.0</td>\n",
       "      <td>17104.0</td>\n",
       "      <td>0.0</td>\n",
       "      <td>0.0</td>\n",
       "      <td>1.0</td>\n",
       "    </tr>\n",
       "    <tr>\n",
       "      <th>3</th>\n",
       "      <td>5.0</td>\n",
       "      <td>1.0</td>\n",
       "      <td>480.0</td>\n",
       "      <td>8520.0</td>\n",
       "      <td>184.0</td>\n",
       "      <td>1.0</td>\n",
       "      <td>25.0</td>\n",
       "      <td>5.0</td>\n",
       "      <td>2400.0</td>\n",
       "      <td>42600.0</td>\n",
       "      <td>...</td>\n",
       "      <td>230400.0</td>\n",
       "      <td>4089600.0</td>\n",
       "      <td>88320.0</td>\n",
       "      <td>480.0</td>\n",
       "      <td>72590400.0</td>\n",
       "      <td>1567680.0</td>\n",
       "      <td>8520.0</td>\n",
       "      <td>33856.0</td>\n",
       "      <td>184.0</td>\n",
       "      <td>1.0</td>\n",
       "    </tr>\n",
       "    <tr>\n",
       "      <th>4</th>\n",
       "      <td>6.0</td>\n",
       "      <td>1.0</td>\n",
       "      <td>514.0</td>\n",
       "      <td>9500.0</td>\n",
       "      <td>0.0</td>\n",
       "      <td>1.0</td>\n",
       "      <td>36.0</td>\n",
       "      <td>6.0</td>\n",
       "      <td>3084.0</td>\n",
       "      <td>57000.0</td>\n",
       "      <td>...</td>\n",
       "      <td>264196.0</td>\n",
       "      <td>4883000.0</td>\n",
       "      <td>0.0</td>\n",
       "      <td>514.0</td>\n",
       "      <td>90250000.0</td>\n",
       "      <td>0.0</td>\n",
       "      <td>9500.0</td>\n",
       "      <td>0.0</td>\n",
       "      <td>0.0</td>\n",
       "      <td>1.0</td>\n",
       "    </tr>\n",
       "  </tbody>\n",
       "</table>\n",
       "<p>5 rows × 27 columns</p>\n",
       "</div>"
      ],
      "text/plain": [
       "   Overall Qual  Full Bath  Garage Area  Lot Area  Enclosed Porch  \\\n",
       "0           6.0        2.0        440.0    9142.0           112.0   \n",
       "1           5.0        2.0        580.0    9662.0             0.0   \n",
       "2           7.0        2.0        426.0   17104.0             0.0   \n",
       "3           5.0        1.0        480.0    8520.0           184.0   \n",
       "4           6.0        1.0        514.0    9500.0             0.0   \n",
       "\n",
       "   Kitchen AbvGr  Overall Qual^2  Overall Qual Full Bath  \\\n",
       "0            2.0            36.0                    12.0   \n",
       "1            2.0            25.0                    10.0   \n",
       "2            1.0            49.0                    14.0   \n",
       "3            1.0            25.0                     5.0   \n",
       "4            1.0            36.0                     6.0   \n",
       "\n",
       "   Overall Qual Garage Area  Overall Qual Lot Area  ...  Garage Area^2  \\\n",
       "0                    2640.0                54852.0  ...       193600.0   \n",
       "1                    2900.0                48310.0  ...       336400.0   \n",
       "2                    2982.0               119728.0  ...       181476.0   \n",
       "3                    2400.0                42600.0  ...       230400.0   \n",
       "4                    3084.0                57000.0  ...       264196.0   \n",
       "\n",
       "   Garage Area Lot Area  Garage Area Enclosed Porch  \\\n",
       "0             4022480.0                     49280.0   \n",
       "1             5603960.0                         0.0   \n",
       "2             7286304.0                         0.0   \n",
       "3             4089600.0                     88320.0   \n",
       "4             4883000.0                         0.0   \n",
       "\n",
       "   Garage Area Kitchen AbvGr   Lot Area^2  Lot Area Enclosed Porch  \\\n",
       "0                      880.0   83576164.0                1023904.0   \n",
       "1                     1160.0   93354244.0                      0.0   \n",
       "2                      426.0  292546816.0                      0.0   \n",
       "3                      480.0   72590400.0                1567680.0   \n",
       "4                      514.0   90250000.0                      0.0   \n",
       "\n",
       "   Lot Area Kitchen AbvGr  Enclosed Porch^2  Enclosed Porch Kitchen AbvGr  \\\n",
       "0                 18284.0           12544.0                         224.0   \n",
       "1                 19324.0               0.0                           0.0   \n",
       "2                 17104.0               0.0                           0.0   \n",
       "3                  8520.0           33856.0                         184.0   \n",
       "4                  9500.0               0.0                           0.0   \n",
       "\n",
       "   Kitchen AbvGr^2  \n",
       "0              4.0  \n",
       "1              4.0  \n",
       "2              1.0  \n",
       "3              1.0  \n",
       "4              1.0  \n",
       "\n",
       "[5 rows x 27 columns]"
      ]
     },
     "execution_count": 30,
     "metadata": {},
     "output_type": "execute_result"
    }
   ],
   "source": [
    "## transform for test \n",
    "X_test_poly = poly.transform(test[features])\n",
    "X_test = pd.DataFrame(X_test_poly, columns=poly_feat)\n",
    "X_test.head()"
   ]
  },
  {
   "cell_type": "code",
   "execution_count": 31,
   "metadata": {},
   "outputs": [],
   "source": [
    "#generate y_hat\n",
    "y_hat = lr.predict(X_test)"
   ]
  },
  {
   "cell_type": "code",
   "execution_count": 32,
   "metadata": {},
   "outputs": [
    {
     "data": {
      "text/plain": [
       "array([152597.20946316, 129432.57710191, 232445.72967099, 124026.58321474,\n",
       "       160075.00215075])"
      ]
     },
     "execution_count": 32,
     "metadata": {},
     "output_type": "execute_result"
    }
   ],
   "source": [
    "y_hat[:5]\n",
    "# a list of our predicted sales prices"
   ]
  },
  {
   "cell_type": "code",
   "execution_count": 33,
   "metadata": {},
   "outputs": [
    {
     "data": {
      "text/html": [
       "<div>\n",
       "<style scoped>\n",
       "    .dataframe tbody tr th:only-of-type {\n",
       "        vertical-align: middle;\n",
       "    }\n",
       "\n",
       "    .dataframe tbody tr th {\n",
       "        vertical-align: top;\n",
       "    }\n",
       "\n",
       "    .dataframe thead th {\n",
       "        text-align: right;\n",
       "    }\n",
       "</style>\n",
       "<table border=\"1\" class=\"dataframe\">\n",
       "  <thead>\n",
       "    <tr style=\"text-align: right;\">\n",
       "      <th></th>\n",
       "      <th>Id</th>\n",
       "      <th>SalePrice</th>\n",
       "    </tr>\n",
       "  </thead>\n",
       "  <tbody>\n",
       "    <tr>\n",
       "      <th>0</th>\n",
       "      <td>2658</td>\n",
       "      <td>152597.209463</td>\n",
       "    </tr>\n",
       "    <tr>\n",
       "      <th>1</th>\n",
       "      <td>2718</td>\n",
       "      <td>129432.577102</td>\n",
       "    </tr>\n",
       "    <tr>\n",
       "      <th>2</th>\n",
       "      <td>2414</td>\n",
       "      <td>232445.729671</td>\n",
       "    </tr>\n",
       "    <tr>\n",
       "      <th>3</th>\n",
       "      <td>1989</td>\n",
       "      <td>124026.583215</td>\n",
       "    </tr>\n",
       "    <tr>\n",
       "      <th>4</th>\n",
       "      <td>625</td>\n",
       "      <td>160075.002151</td>\n",
       "    </tr>\n",
       "  </tbody>\n",
       "</table>\n",
       "</div>"
      ],
      "text/plain": [
       "     Id      SalePrice\n",
       "0  2658  152597.209463\n",
       "1  2718  129432.577102\n",
       "2  2414  232445.729671\n",
       "3  1989  124026.583215\n",
       "4   625  160075.002151"
      ]
     },
     "execution_count": 33,
     "metadata": {},
     "output_type": "execute_result"
    }
   ],
   "source": [
    "submission_df = pd.DataFrame({\n",
    "    'Id': test['Id'],\n",
    "    'SalePrice': y_hat  #passing in all our predictions \n",
    "})\n",
    "submission_df.head()"
   ]
  },
  {
   "cell_type": "code",
   "execution_count": 34,
   "metadata": {},
   "outputs": [],
   "source": [
    "#create csv / format for Kaggle\n",
    "submission_df.to_csv('submission3.csv', index=False)"
   ]
  },
  {
   "cell_type": "code",
   "execution_count": null,
   "metadata": {},
   "outputs": [],
   "source": []
  },
  {
   "cell_type": "code",
   "execution_count": null,
   "metadata": {},
   "outputs": [],
   "source": []
  }
 ],
 "metadata": {
  "kernelspec": {
   "display_name": "Python 3",
   "language": "python",
   "name": "python3"
  },
  "language_info": {
   "codemirror_mode": {
    "name": "ipython",
    "version": 3
   },
   "file_extension": ".py",
   "mimetype": "text/x-python",
   "name": "python",
   "nbconvert_exporter": "python",
   "pygments_lexer": "ipython3",
   "version": "3.7.3"
  }
 },
 "nbformat": 4,
 "nbformat_minor": 2
}
