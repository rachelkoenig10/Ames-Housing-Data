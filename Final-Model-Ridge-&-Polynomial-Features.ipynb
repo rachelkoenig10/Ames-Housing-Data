{
 "cells": [
  {
   "cell_type": "markdown",
   "metadata": {},
   "source": [
    "## Ames Housing Project- Final Model "
   ]
  },
  {
   "cell_type": "markdown",
   "metadata": {},
   "source": [
    "### Problem Statement\n",
    "I was just hired by a home appraisal company in Iowa as their very first data scientist.  After years of appraising homes by hand, they want a faster more effective and accurate system.  My job is too create a model that can take in the data they collect out in the field and return the true/fair market value of a house. Sucess will be evaluated on the RMSE score. "
   ]
  },
  {
   "cell_type": "markdown",
   "metadata": {},
   "source": [
    "Imports"
   ]
  },
  {
   "cell_type": "code",
   "execution_count": 1,
   "metadata": {},
   "outputs": [],
   "source": [
    "import pandas as pd\n",
    "import seaborn as sns\n",
    "import numpy as np\n",
    "import matplotlib.pyplot as plt\n",
    "from sklearn.linear_model import LinearRegression, LassoCV, RidgeCV\n",
    "from sklearn.model_selection import train_test_split, cross_val_score\n",
    "from sklearn.metrics import mean_squared_error, r2_score\n",
    "from sklearn.preprocessing import PolynomialFeatures, StandardScaler\n",
    "\n",
    "%matplotlib inline"
   ]
  },
  {
   "cell_type": "markdown",
   "metadata": {},
   "source": [
    "Read in datasets"
   ]
  },
  {
   "cell_type": "code",
   "execution_count": 2,
   "metadata": {},
   "outputs": [],
   "source": [
    "train = pd.read_csv('data/train.csv')\n",
    "test = pd.read_csv('data/test.csv')"
   ]
  },
  {
   "cell_type": "markdown",
   "metadata": {},
   "source": [
    "Rename columns"
   ]
  },
  {
   "cell_type": "code",
   "execution_count": 3,
   "metadata": {},
   "outputs": [],
   "source": [
    "def rename_cols(df):\n",
    "     df.rename(index=str, columns={\n",
    "    'PID': 'parcel_id',\n",
    "    'MS SubClass' : 'ms_subclass',\n",
    "    'MS Zoning': 'zoning', \n",
    "    'Lot Frontage': 'lot_frontage',\n",
    "    'Lot Area': 'lot_sq_ft',\n",
    "    'Street': 'paved_street', \n",
    "    'Alley': 'alley', \n",
    "    'Lot Shape': 'lot_shape', \n",
    "    'Land Contour': 'flatness', \n",
    "    'Utilities': 'utilities',       \n",
    "    'Lot Config': 'lot_config', \n",
    "    'Land Slope': 'land_slope', \n",
    "    'Neighborhood': 'neighborhood', \n",
    "    'Condition 1': 'proximity_1',\n",
    "    'Condition 2': 'proximity_2', \n",
    "    'Bldg Type': 'building_type', \n",
    "    'House Style': 'style', \n",
    "    'Overall Qual': 'quality_rating',\n",
    "    'Overall Cond': 'condition_rating', \n",
    "    'Year Built': 'year_built', \n",
    "    'Year Remod/Add': 'year_renovation', \n",
    "    'Roof Style': 'roof_style',\n",
    "    'Roof Matl': 'roof_material', \n",
    "    'Exterior 1st': 'exterior_1', \n",
    "    'Exterior 2nd': 'exterior_2', \n",
    "    'Mas Vnr Type': 'masonry_type',\n",
    "    'Mas Vnr Area': 'masonry_area', \n",
    "    'Exter Qual': 'exterior_quality', \n",
    "    'Exter Cond': 'exterior_condition', \n",
    "    'Foundation': 'foundation_type', \n",
    "    'Bsmt Qual': 'basement_height',\n",
    "    'Bsmt Cond': 'basement_condition', \n",
    "    'Bsmt Exposure': 'basement_exposure', \n",
    "    'BsmtFin Type 1': 'basement_finished_condition', \n",
    "    'BsmtFin SF 1': 'basement_fin_sqft',\n",
    "    'BsmtFin Type 2': 'basement_2_condition', \n",
    "    'BsmtFin SF 2': 'basement_2_sqft', \n",
    "    'Bsmt Unf SF': 'unfinished_basement_sqft', \n",
    "    'Total Bsmt SF': 'total_basement_sqft',\n",
    "    'Heating': 'heating_type', \n",
    "    'Heating QC': 'heating_quality', \n",
    "    'Central Air': 'has_central_air', \n",
    "    'Electrical': 'electrical', \n",
    "    '1st Flr SF': 'first_fl_sqft',\n",
    "    '2nd Flr SF': 'second_fl_sqft', \n",
    "    'Low Qual Fin SF': 'low_quality_sqft', \n",
    "    'Gr Liv Area': 'living_area_sqft', \n",
    "    'Bsmt Full Bath': 'basement_full_bath',\n",
    "    'Bsmt Half Bath': 'basement_half_bath', \n",
    "    'Full Bath': 'full_bath', \n",
    "    'Half Bath': 'half_bath', \n",
    "    'Bedroom AbvGr': 'bedrooms',\n",
    "    'Kitchen AbvGr': 'kitchens', \n",
    "    'Kitchen Qual': 'kitchen_quality', \n",
    "    'TotRms AbvGrd': 'total_rooms(non-bath_or_basement)', \n",
    "    'Functional': 'functionality',\n",
    "    'Fireplaces': 'fireplaces', \n",
    "    'Fireplace Qu': 'fireplace_quality', \n",
    "    'Garage Type': 'garage_type', \n",
    "    'Garage Yr Blt': 'garage_year',\n",
    "    'Garage Finish': 'garage_finish', \n",
    "    'Garage Cars': 'garage_size', \n",
    "    'Garage Area': 'garage_sqft', \n",
    "    'Garage Qual': 'garage_quality',\n",
    "    'Garage Cond': 'garage_condition', \n",
    "    'Paved Drive': 'has_paved_driveway', \n",
    "    'Wood Deck SF': 'deck_sqft', \n",
    "    'Open Porch SF': 'open_porch_sqft',\n",
    "    'Enclosed Porch': 'enclosed_porch_sqft', \n",
    "    '3Ssn Porch': 'seasonal_porch_sqft', \n",
    "    'Screen Porch': 'screen_porch_sqft', \n",
    "    'Pool Area': 'pool_size', \n",
    "    'Pool QC': 'pool_quality',\n",
    "    'Fence': 'fence_quality', \n",
    "    'Misc Feature': 'misc_feature',\n",
    "    'Misc Val': 'misc_value',\n",
    "    'Mo Sold': 'month_sold', \n",
    "    'Yr Sold': 'year_sold', \n",
    "    'Sale Type': 'sale_type', \n",
    "\n",
    "    \n",
    "}, inplace=True)\n",
    "        "
   ]
  },
  {
   "cell_type": "code",
   "execution_count": 4,
   "metadata": {},
   "outputs": [],
   "source": [
    "rename_cols(train)"
   ]
  },
  {
   "cell_type": "markdown",
   "metadata": {},
   "source": [
    "Fill in nulls "
   ]
  },
  {
   "cell_type": "code",
   "execution_count": 5,
   "metadata": {},
   "outputs": [],
   "source": [
    "for col in train:\n",
    "    if type(train[col])== 'int64' or 'float64':\n",
    "        train[col] = train[col].fillna(value=0)\n",
    "    else:\n",
    "        train[col] = train[col].fillna(value='None')\n",
    "        "
   ]
  },
  {
   "cell_type": "code",
   "execution_count": 6,
   "metadata": {},
   "outputs": [
    {
     "data": {
      "text/plain": [
       "0"
      ]
     },
     "execution_count": 6,
     "metadata": {},
     "output_type": "execute_result"
    }
   ],
   "source": [
    "train.isnull().sum().sum()"
   ]
  },
  {
   "cell_type": "markdown",
   "metadata": {},
   "source": [
    "EDA: column combination, dropping and feature engineering"
   ]
  },
  {
   "cell_type": "code",
   "execution_count": 7,
   "metadata": {},
   "outputs": [],
   "source": [
    "def EDA(df):\n",
    "    df['baths'] = df['basement_full_bath'] + df['full_bath'] + (df['basement_half_bath']/2) + (df['half_bath']/2)\n",
    "    df['finished_basement_sqft'] = df['basement_fin_sqft'] + df['basement_2_sqft']\n",
    "    df['home_age'] = df['year_sold'] - df['year_built']\n",
    "    \n",
    "    df.drop(columns=['basement_full_bath', 'full_bath',\n",
    "                     'basement_half_bath','half_bath', \n",
    "                     'basement_fin_sqft', 'basement_2_sqft', \n",
    "                     'first_fl_sqft', 'second_fl_sqft'], inplace=True)\n",
    "    \n",
    "    df['basement'] = df['basement_finished_condition'].map({ \n",
    "        'Unf': 'unfinished', 'ALQ': 'finished', 'Rec': 'finished', 0 : 'none', \n",
    "        'BLQ': 'finished', 'LwQ': 'finished', 'GLQ': 'finished',\n",
    "    })\n",
    "    df['paved_street'] = df['paved_street'].map({'Pave': 1, 'Grvl': 0})\n",
    "    df['has_paved_driveway'] = df['has_paved_driveway'].map({'Y': 1, 'P': 1, 'N': 0})\n",
    "    df['has_central_air'] = df['has_central_air'].map({'Y': 1, 'N': 0})\n",
    "    df['newly_renovated'] = df['year_renovation'].map(lambda reno: 1 if reno >= 2010 else 0)\n",
    "    df['functionality'] = df['functionality'].map({\n",
    "    'Maj2': 'deducted',\n",
    "    'Mod': 'deducted',                        \n",
    "    'Min2':'deducted', \n",
    "    'Maj1': 'deducted',\n",
    "    'Min1': 'deducted',\n",
    "    'Sev': 'severely_damaged',\n",
    "    'Sal': 'salvage_only',\n",
    "    'Typ': 'typical'\n",
    "    \n",
    "})\n",
    "    df['building_type'] = df['building_type'].map({\n",
    "    '2fmCon': \"two_family_conversion\",\n",
    "    'Twnhs' : 'townhouse_inside_unit',\n",
    "    'TwnhsE': 'townhouse_end_unit',\n",
    "    '1Fam': 'single_family',\n",
    "    'Duplex': 'duplex'\n",
    "}) "
   ]
  },
  {
   "cell_type": "code",
   "execution_count": 8,
   "metadata": {},
   "outputs": [],
   "source": [
    "EDA(train)"
   ]
  },
  {
   "cell_type": "code",
   "execution_count": 9,
   "metadata": {},
   "outputs": [
    {
     "data": {
      "text/html": [
       "<div>\n",
       "<style scoped>\n",
       "    .dataframe tbody tr th:only-of-type {\n",
       "        vertical-align: middle;\n",
       "    }\n",
       "\n",
       "    .dataframe tbody tr th {\n",
       "        vertical-align: top;\n",
       "    }\n",
       "\n",
       "    .dataframe thead th {\n",
       "        text-align: right;\n",
       "    }\n",
       "</style>\n",
       "<table border=\"1\" class=\"dataframe\">\n",
       "  <thead>\n",
       "    <tr style=\"text-align: right;\">\n",
       "      <th></th>\n",
       "      <th>Id</th>\n",
       "      <th>parcel_id</th>\n",
       "      <th>ms_subclass</th>\n",
       "      <th>zoning</th>\n",
       "      <th>lot_frontage</th>\n",
       "      <th>lot_sq_ft</th>\n",
       "      <th>paved_street</th>\n",
       "      <th>alley</th>\n",
       "      <th>lot_shape</th>\n",
       "      <th>flatness</th>\n",
       "      <th>...</th>\n",
       "      <th>misc_value</th>\n",
       "      <th>month_sold</th>\n",
       "      <th>year_sold</th>\n",
       "      <th>sale_type</th>\n",
       "      <th>SalePrice</th>\n",
       "      <th>baths</th>\n",
       "      <th>finished_basement_sqft</th>\n",
       "      <th>home_age</th>\n",
       "      <th>basement</th>\n",
       "      <th>newly_renovated</th>\n",
       "    </tr>\n",
       "  </thead>\n",
       "  <tbody>\n",
       "    <tr>\n",
       "      <th>0</th>\n",
       "      <td>109</td>\n",
       "      <td>533352170</td>\n",
       "      <td>60</td>\n",
       "      <td>RL</td>\n",
       "      <td>0.0</td>\n",
       "      <td>13517</td>\n",
       "      <td>1</td>\n",
       "      <td>0</td>\n",
       "      <td>IR1</td>\n",
       "      <td>Lvl</td>\n",
       "      <td>...</td>\n",
       "      <td>0</td>\n",
       "      <td>3</td>\n",
       "      <td>2010</td>\n",
       "      <td>WD</td>\n",
       "      <td>130500</td>\n",
       "      <td>2.5</td>\n",
       "      <td>533.0</td>\n",
       "      <td>34</td>\n",
       "      <td>finished</td>\n",
       "      <td>0</td>\n",
       "    </tr>\n",
       "    <tr>\n",
       "      <th>1</th>\n",
       "      <td>544</td>\n",
       "      <td>531379050</td>\n",
       "      <td>60</td>\n",
       "      <td>RL</td>\n",
       "      <td>43.0</td>\n",
       "      <td>11492</td>\n",
       "      <td>1</td>\n",
       "      <td>0</td>\n",
       "      <td>IR1</td>\n",
       "      <td>Lvl</td>\n",
       "      <td>...</td>\n",
       "      <td>0</td>\n",
       "      <td>4</td>\n",
       "      <td>2009</td>\n",
       "      <td>WD</td>\n",
       "      <td>220000</td>\n",
       "      <td>3.5</td>\n",
       "      <td>637.0</td>\n",
       "      <td>13</td>\n",
       "      <td>finished</td>\n",
       "      <td>0</td>\n",
       "    </tr>\n",
       "    <tr>\n",
       "      <th>2</th>\n",
       "      <td>153</td>\n",
       "      <td>535304180</td>\n",
       "      <td>20</td>\n",
       "      <td>RL</td>\n",
       "      <td>68.0</td>\n",
       "      <td>7922</td>\n",
       "      <td>1</td>\n",
       "      <td>0</td>\n",
       "      <td>Reg</td>\n",
       "      <td>Lvl</td>\n",
       "      <td>...</td>\n",
       "      <td>0</td>\n",
       "      <td>1</td>\n",
       "      <td>2010</td>\n",
       "      <td>WD</td>\n",
       "      <td>109000</td>\n",
       "      <td>2.0</td>\n",
       "      <td>731.0</td>\n",
       "      <td>57</td>\n",
       "      <td>finished</td>\n",
       "      <td>0</td>\n",
       "    </tr>\n",
       "    <tr>\n",
       "      <th>3</th>\n",
       "      <td>318</td>\n",
       "      <td>916386060</td>\n",
       "      <td>60</td>\n",
       "      <td>RL</td>\n",
       "      <td>73.0</td>\n",
       "      <td>9802</td>\n",
       "      <td>1</td>\n",
       "      <td>0</td>\n",
       "      <td>Reg</td>\n",
       "      <td>Lvl</td>\n",
       "      <td>...</td>\n",
       "      <td>0</td>\n",
       "      <td>4</td>\n",
       "      <td>2010</td>\n",
       "      <td>WD</td>\n",
       "      <td>174000</td>\n",
       "      <td>2.5</td>\n",
       "      <td>0.0</td>\n",
       "      <td>4</td>\n",
       "      <td>unfinished</td>\n",
       "      <td>0</td>\n",
       "    </tr>\n",
       "    <tr>\n",
       "      <th>4</th>\n",
       "      <td>255</td>\n",
       "      <td>906425045</td>\n",
       "      <td>50</td>\n",
       "      <td>RL</td>\n",
       "      <td>82.0</td>\n",
       "      <td>14235</td>\n",
       "      <td>1</td>\n",
       "      <td>0</td>\n",
       "      <td>IR1</td>\n",
       "      <td>Lvl</td>\n",
       "      <td>...</td>\n",
       "      <td>0</td>\n",
       "      <td>3</td>\n",
       "      <td>2010</td>\n",
       "      <td>WD</td>\n",
       "      <td>138500</td>\n",
       "      <td>2.0</td>\n",
       "      <td>0.0</td>\n",
       "      <td>110</td>\n",
       "      <td>unfinished</td>\n",
       "      <td>0</td>\n",
       "    </tr>\n",
       "  </tbody>\n",
       "</table>\n",
       "<p>5 rows × 78 columns</p>\n",
       "</div>"
      ],
      "text/plain": [
       "    Id  parcel_id  ms_subclass zoning  lot_frontage  lot_sq_ft  paved_street  \\\n",
       "0  109  533352170           60     RL           0.0      13517             1   \n",
       "1  544  531379050           60     RL          43.0      11492             1   \n",
       "2  153  535304180           20     RL          68.0       7922             1   \n",
       "3  318  916386060           60     RL          73.0       9802             1   \n",
       "4  255  906425045           50     RL          82.0      14235             1   \n",
       "\n",
       "  alley lot_shape flatness  ... misc_value month_sold year_sold sale_type  \\\n",
       "0     0       IR1      Lvl  ...          0          3      2010       WD    \n",
       "1     0       IR1      Lvl  ...          0          4      2009       WD    \n",
       "2     0       Reg      Lvl  ...          0          1      2010       WD    \n",
       "3     0       Reg      Lvl  ...          0          4      2010       WD    \n",
       "4     0       IR1      Lvl  ...          0          3      2010       WD    \n",
       "\n",
       "  SalePrice baths finished_basement_sqft home_age    basement  newly_renovated  \n",
       "0    130500   2.5                  533.0       34    finished                0  \n",
       "1    220000   3.5                  637.0       13    finished                0  \n",
       "2    109000   2.0                  731.0       57    finished                0  \n",
       "3    174000   2.5                    0.0        4  unfinished                0  \n",
       "4    138500   2.0                    0.0      110  unfinished                0  \n",
       "\n",
       "[5 rows x 78 columns]"
      ]
     },
     "execution_count": 9,
     "metadata": {},
     "output_type": "execute_result"
    }
   ],
   "source": [
    "train.head()"
   ]
  },
  {
   "cell_type": "markdown",
   "metadata": {},
   "source": [
    "Since I am going to use Polynomial Features for this model, I do not want any dummy columns so I create a new list of \"good colums\" called `good_cols`."
   ]
  },
  {
   "cell_type": "code",
   "execution_count": 10,
   "metadata": {},
   "outputs": [],
   "source": [
    "good_cols = ['fireplaces', 'has_central_air','bedrooms', 'quality_rating',\n",
    "             'lot_sq_ft', 'living_area_sqft','garage_size',\n",
    "             'finished_basement_sqft', 'home_age','SalePrice']"
   ]
  },
  {
   "cell_type": "markdown",
   "metadata": {},
   "source": [
    "Checking feature & target distributions"
   ]
  },
  {
   "cell_type": "code",
   "execution_count": 11,
   "metadata": {},
   "outputs": [
    {
     "data": {
      "image/png": "[encoded data removed]",
      "text/plain": [
       "<Figure size 720x720 with 12 Axes>"
      ]
     },
     "metadata": {
      "needs_background": "light"
     },
     "output_type": "display_data"
    }
   ],
   "source": [
    "train[good_cols].hist(figsize=(10,10));"
   ]
  },
  {
   "cell_type": "markdown",
   "metadata": {},
   "source": [
    "Checking feature & target correlations."
   ]
  },
  {
   "cell_type": "code",
   "execution_count": 12,
   "metadata": {},
   "outputs": [
    {
     "data": {
      "image/png": "[encoded data removed]",
      "text/plain": [
       "<Figure size 864x864 with 2 Axes>"
      ]
     },
     "metadata": {
      "needs_background": "light"
     },
     "output_type": "display_data"
    }
   ],
   "source": [
    "plt.figure(figsize=(12, 12))\n",
    "sns.heatmap(train[good_cols].corr(),\n",
    "           annot=True,\n",
    "           cmap='coolwarm',\n",
    "           vmin=-1)\n",
    "\n",
    "plt.title(\"Correlation Between Non-Dummy Features and SalePrice\", fontsize=24);"
   ]
  },
  {
   "cell_type": "markdown",
   "metadata": {},
   "source": [
    "Home Age has the highest negative correlation on SalePrice and is even and Quality Rating has the highest positive correlation."
   ]
  },
  {
   "cell_type": "code",
   "execution_count": 13,
   "metadata": {},
   "outputs": [
    {
     "data": {
      "text/plain": [
       "['fireplaces',\n",
       " 'has_central_air',\n",
       " 'bedrooms',\n",
       " 'quality_rating',\n",
       " 'lot_sq_ft',\n",
       " 'living_area_sqft',\n",
       " 'garage_size',\n",
       " 'finished_basement_sqft',\n",
       " 'home_age']"
      ]
     },
     "execution_count": 13,
     "metadata": {},
     "output_type": "execute_result"
    }
   ],
   "source": [
    "features = [col for col in good_cols if col != 'SalePrice']\n",
    "features"
   ]
  },
  {
   "cell_type": "markdown",
   "metadata": {},
   "source": [
    "Set features and target"
   ]
  },
  {
   "cell_type": "code",
   "execution_count": 14,
   "metadata": {},
   "outputs": [],
   "source": [
    "X = train[features]\n",
    "y = train['SalePrice']"
   ]
  },
  {
   "cell_type": "code",
   "execution_count": 15,
   "metadata": {},
   "outputs": [
    {
     "data": {
      "text/html": [
       "<div>\n",
       "<style scoped>\n",
       "    .dataframe tbody tr th:only-of-type {\n",
       "        vertical-align: middle;\n",
       "    }\n",
       "\n",
       "    .dataframe tbody tr th {\n",
       "        vertical-align: top;\n",
       "    }\n",
       "\n",
       "    .dataframe thead th {\n",
       "        text-align: right;\n",
       "    }\n",
       "</style>\n",
       "<table border=\"1\" class=\"dataframe\">\n",
       "  <thead>\n",
       "    <tr style=\"text-align: right;\">\n",
       "      <th></th>\n",
       "      <th>fireplaces</th>\n",
       "      <th>has_central_air</th>\n",
       "      <th>bedrooms</th>\n",
       "      <th>quality_rating</th>\n",
       "      <th>lot_sq_ft</th>\n",
       "      <th>living_area_sqft</th>\n",
       "      <th>garage_size</th>\n",
       "      <th>finished_basement_sqft</th>\n",
       "      <th>home_age</th>\n",
       "    </tr>\n",
       "  </thead>\n",
       "  <tbody>\n",
       "    <tr>\n",
       "      <th>0</th>\n",
       "      <td>0</td>\n",
       "      <td>1</td>\n",
       "      <td>3</td>\n",
       "      <td>6</td>\n",
       "      <td>13517</td>\n",
       "      <td>1479</td>\n",
       "      <td>2.0</td>\n",
       "      <td>533.0</td>\n",
       "      <td>34</td>\n",
       "    </tr>\n",
       "    <tr>\n",
       "      <th>1</th>\n",
       "      <td>1</td>\n",
       "      <td>1</td>\n",
       "      <td>4</td>\n",
       "      <td>7</td>\n",
       "      <td>11492</td>\n",
       "      <td>2122</td>\n",
       "      <td>2.0</td>\n",
       "      <td>637.0</td>\n",
       "      <td>13</td>\n",
       "    </tr>\n",
       "    <tr>\n",
       "      <th>2</th>\n",
       "      <td>0</td>\n",
       "      <td>1</td>\n",
       "      <td>3</td>\n",
       "      <td>5</td>\n",
       "      <td>7922</td>\n",
       "      <td>1057</td>\n",
       "      <td>1.0</td>\n",
       "      <td>731.0</td>\n",
       "      <td>57</td>\n",
       "    </tr>\n",
       "    <tr>\n",
       "      <th>3</th>\n",
       "      <td>0</td>\n",
       "      <td>1</td>\n",
       "      <td>3</td>\n",
       "      <td>5</td>\n",
       "      <td>9802</td>\n",
       "      <td>1444</td>\n",
       "      <td>2.0</td>\n",
       "      <td>0.0</td>\n",
       "      <td>4</td>\n",
       "    </tr>\n",
       "    <tr>\n",
       "      <th>4</th>\n",
       "      <td>0</td>\n",
       "      <td>1</td>\n",
       "      <td>3</td>\n",
       "      <td>6</td>\n",
       "      <td>14235</td>\n",
       "      <td>1445</td>\n",
       "      <td>2.0</td>\n",
       "      <td>0.0</td>\n",
       "      <td>110</td>\n",
       "    </tr>\n",
       "  </tbody>\n",
       "</table>\n",
       "</div>"
      ],
      "text/plain": [
       "   fireplaces  has_central_air  bedrooms  quality_rating  lot_sq_ft  \\\n",
       "0           0                1         3               6      13517   \n",
       "1           1                1         4               7      11492   \n",
       "2           0                1         3               5       7922   \n",
       "3           0                1         3               5       9802   \n",
       "4           0                1         3               6      14235   \n",
       "\n",
       "   living_area_sqft  garage_size  finished_basement_sqft  home_age  \n",
       "0              1479          2.0                   533.0        34  \n",
       "1              2122          2.0                   637.0        13  \n",
       "2              1057          1.0                   731.0        57  \n",
       "3              1444          2.0                     0.0         4  \n",
       "4              1445          2.0                     0.0       110  "
      ]
     },
     "execution_count": 15,
     "metadata": {},
     "output_type": "execute_result"
    }
   ],
   "source": [
    "X.head()"
   ]
  },
  {
   "cell_type": "code",
   "execution_count": 16,
   "metadata": {},
   "outputs": [
    {
     "data": {
      "text/plain": [
       "0    130500\n",
       "1    220000\n",
       "2    109000\n",
       "3    174000\n",
       "4    138500\n",
       "Name: SalePrice, dtype: int64"
      ]
     },
     "execution_count": 16,
     "metadata": {},
     "output_type": "execute_result"
    }
   ],
   "source": [
    "y.head()"
   ]
  },
  {
   "cell_type": "markdown",
   "metadata": {},
   "source": [
    "Identify baseline prediction."
   ]
  },
  {
   "cell_type": "code",
   "execution_count": 17,
   "metadata": {},
   "outputs": [
    {
     "data": {
      "text/plain": [
       "181469.70160897123"
      ]
     },
     "execution_count": 17,
     "metadata": {},
     "output_type": "execute_result"
    }
   ],
   "source": [
    "y.mean()"
   ]
  },
  {
   "cell_type": "code",
   "execution_count": 18,
   "metadata": {},
   "outputs": [
    {
     "data": {
      "text/plain": [
       "dtype('int64')"
      ]
     },
     "execution_count": 18,
     "metadata": {},
     "output_type": "execute_result"
    }
   ],
   "source": [
    "train['SalePrice'].dtype"
   ]
  },
  {
   "cell_type": "markdown",
   "metadata": {},
   "source": [
    "Instantiate "
   ]
  },
  {
   "cell_type": "code",
   "execution_count": 19,
   "metadata": {},
   "outputs": [],
   "source": [
    "poly = PolynomialFeatures(include_bias=False)"
   ]
  },
  {
   "cell_type": "markdown",
   "metadata": {},
   "source": [
    "Fit transform X"
   ]
  },
  {
   "cell_type": "code",
   "execution_count": 20,
   "metadata": {},
   "outputs": [
    {
     "data": {
      "text/plain": [
       "(2051, 54)"
      ]
     },
     "execution_count": 20,
     "metadata": {},
     "output_type": "execute_result"
    }
   ],
   "source": [
    "X_poly = poly.fit_transform(X)\n",
    "X_poly.shape"
   ]
  },
  {
   "cell_type": "markdown",
   "metadata": {},
   "source": [
    "Get poly feature names"
   ]
  },
  {
   "cell_type": "code",
   "execution_count": 21,
   "metadata": {},
   "outputs": [],
   "source": [
    "poly_feat = poly.get_feature_names(features)"
   ]
  },
  {
   "cell_type": "markdown",
   "metadata": {},
   "source": [
    "Create a new DataFrame"
   ]
  },
  {
   "cell_type": "code",
   "execution_count": 22,
   "metadata": {},
   "outputs": [
    {
     "data": {
      "text/html": [
       "<div>\n",
       "<style scoped>\n",
       "    .dataframe tbody tr th:only-of-type {\n",
       "        vertical-align: middle;\n",
       "    }\n",
       "\n",
       "    .dataframe tbody tr th {\n",
       "        vertical-align: top;\n",
       "    }\n",
       "\n",
       "    .dataframe thead th {\n",
       "        text-align: right;\n",
       "    }\n",
       "</style>\n",
       "<table border=\"1\" class=\"dataframe\">\n",
       "  <thead>\n",
       "    <tr style=\"text-align: right;\">\n",
       "      <th></th>\n",
       "      <th>fireplaces</th>\n",
       "      <th>has_central_air</th>\n",
       "      <th>bedrooms</th>\n",
       "      <th>quality_rating</th>\n",
       "      <th>lot_sq_ft</th>\n",
       "      <th>living_area_sqft</th>\n",
       "      <th>garage_size</th>\n",
       "      <th>finished_basement_sqft</th>\n",
       "      <th>home_age</th>\n",
       "      <th>fireplaces^2</th>\n",
       "      <th>...</th>\n",
       "      <th>living_area_sqft^2</th>\n",
       "      <th>living_area_sqft garage_size</th>\n",
       "      <th>living_area_sqft finished_basement_sqft</th>\n",
       "      <th>living_area_sqft home_age</th>\n",
       "      <th>garage_size^2</th>\n",
       "      <th>garage_size finished_basement_sqft</th>\n",
       "      <th>garage_size home_age</th>\n",
       "      <th>finished_basement_sqft^2</th>\n",
       "      <th>finished_basement_sqft home_age</th>\n",
       "      <th>home_age^2</th>\n",
       "    </tr>\n",
       "  </thead>\n",
       "  <tbody>\n",
       "    <tr>\n",
       "      <th>0</th>\n",
       "      <td>0.0</td>\n",
       "      <td>1.0</td>\n",
       "      <td>3.0</td>\n",
       "      <td>6.0</td>\n",
       "      <td>13517.0</td>\n",
       "      <td>1479.0</td>\n",
       "      <td>2.0</td>\n",
       "      <td>533.0</td>\n",
       "      <td>34.0</td>\n",
       "      <td>0.0</td>\n",
       "      <td>...</td>\n",
       "      <td>2187441.0</td>\n",
       "      <td>2958.0</td>\n",
       "      <td>788307.0</td>\n",
       "      <td>50286.0</td>\n",
       "      <td>4.0</td>\n",
       "      <td>1066.0</td>\n",
       "      <td>68.0</td>\n",
       "      <td>284089.0</td>\n",
       "      <td>18122.0</td>\n",
       "      <td>1156.0</td>\n",
       "    </tr>\n",
       "    <tr>\n",
       "      <th>1</th>\n",
       "      <td>1.0</td>\n",
       "      <td>1.0</td>\n",
       "      <td>4.0</td>\n",
       "      <td>7.0</td>\n",
       "      <td>11492.0</td>\n",
       "      <td>2122.0</td>\n",
       "      <td>2.0</td>\n",
       "      <td>637.0</td>\n",
       "      <td>13.0</td>\n",
       "      <td>1.0</td>\n",
       "      <td>...</td>\n",
       "      <td>4502884.0</td>\n",
       "      <td>4244.0</td>\n",
       "      <td>1351714.0</td>\n",
       "      <td>27586.0</td>\n",
       "      <td>4.0</td>\n",
       "      <td>1274.0</td>\n",
       "      <td>26.0</td>\n",
       "      <td>405769.0</td>\n",
       "      <td>8281.0</td>\n",
       "      <td>169.0</td>\n",
       "    </tr>\n",
       "    <tr>\n",
       "      <th>2</th>\n",
       "      <td>0.0</td>\n",
       "      <td>1.0</td>\n",
       "      <td>3.0</td>\n",
       "      <td>5.0</td>\n",
       "      <td>7922.0</td>\n",
       "      <td>1057.0</td>\n",
       "      <td>1.0</td>\n",
       "      <td>731.0</td>\n",
       "      <td>57.0</td>\n",
       "      <td>0.0</td>\n",
       "      <td>...</td>\n",
       "      <td>1117249.0</td>\n",
       "      <td>1057.0</td>\n",
       "      <td>772667.0</td>\n",
       "      <td>60249.0</td>\n",
       "      <td>1.0</td>\n",
       "      <td>731.0</td>\n",
       "      <td>57.0</td>\n",
       "      <td>534361.0</td>\n",
       "      <td>41667.0</td>\n",
       "      <td>3249.0</td>\n",
       "    </tr>\n",
       "    <tr>\n",
       "      <th>3</th>\n",
       "      <td>0.0</td>\n",
       "      <td>1.0</td>\n",
       "      <td>3.0</td>\n",
       "      <td>5.0</td>\n",
       "      <td>9802.0</td>\n",
       "      <td>1444.0</td>\n",
       "      <td>2.0</td>\n",
       "      <td>0.0</td>\n",
       "      <td>4.0</td>\n",
       "      <td>0.0</td>\n",
       "      <td>...</td>\n",
       "      <td>2085136.0</td>\n",
       "      <td>2888.0</td>\n",
       "      <td>0.0</td>\n",
       "      <td>5776.0</td>\n",
       "      <td>4.0</td>\n",
       "      <td>0.0</td>\n",
       "      <td>8.0</td>\n",
       "      <td>0.0</td>\n",
       "      <td>0.0</td>\n",
       "      <td>16.0</td>\n",
       "    </tr>\n",
       "    <tr>\n",
       "      <th>4</th>\n",
       "      <td>0.0</td>\n",
       "      <td>1.0</td>\n",
       "      <td>3.0</td>\n",
       "      <td>6.0</td>\n",
       "      <td>14235.0</td>\n",
       "      <td>1445.0</td>\n",
       "      <td>2.0</td>\n",
       "      <td>0.0</td>\n",
       "      <td>110.0</td>\n",
       "      <td>0.0</td>\n",
       "      <td>...</td>\n",
       "      <td>2088025.0</td>\n",
       "      <td>2890.0</td>\n",
       "      <td>0.0</td>\n",
       "      <td>158950.0</td>\n",
       "      <td>4.0</td>\n",
       "      <td>0.0</td>\n",
       "      <td>220.0</td>\n",
       "      <td>0.0</td>\n",
       "      <td>0.0</td>\n",
       "      <td>12100.0</td>\n",
       "    </tr>\n",
       "  </tbody>\n",
       "</table>\n",
       "<p>5 rows × 54 columns</p>\n",
       "</div>"
      ],
      "text/plain": [
       "   fireplaces  has_central_air  bedrooms  quality_rating  lot_sq_ft  \\\n",
       "0         0.0              1.0       3.0             6.0    13517.0   \n",
       "1         1.0              1.0       4.0             7.0    11492.0   \n",
       "2         0.0              1.0       3.0             5.0     7922.0   \n",
       "3         0.0              1.0       3.0             5.0     9802.0   \n",
       "4         0.0              1.0       3.0             6.0    14235.0   \n",
       "\n",
       "   living_area_sqft  garage_size  finished_basement_sqft  home_age  \\\n",
       "0            1479.0          2.0                   533.0      34.0   \n",
       "1            2122.0          2.0                   637.0      13.0   \n",
       "2            1057.0          1.0                   731.0      57.0   \n",
       "3            1444.0          2.0                     0.0       4.0   \n",
       "4            1445.0          2.0                     0.0     110.0   \n",
       "\n",
       "   fireplaces^2  ...  living_area_sqft^2  living_area_sqft garage_size  \\\n",
       "0           0.0  ...           2187441.0                        2958.0   \n",
       "1           1.0  ...           4502884.0                        4244.0   \n",
       "2           0.0  ...           1117249.0                        1057.0   \n",
       "3           0.0  ...           2085136.0                        2888.0   \n",
       "4           0.0  ...           2088025.0                        2890.0   \n",
       "\n",
       "   living_area_sqft finished_basement_sqft  living_area_sqft home_age  \\\n",
       "0                                 788307.0                    50286.0   \n",
       "1                                1351714.0                    27586.0   \n",
       "2                                 772667.0                    60249.0   \n",
       "3                                      0.0                     5776.0   \n",
       "4                                      0.0                   158950.0   \n",
       "\n",
       "   garage_size^2  garage_size finished_basement_sqft  garage_size home_age  \\\n",
       "0            4.0                              1066.0                  68.0   \n",
       "1            4.0                              1274.0                  26.0   \n",
       "2            1.0                               731.0                  57.0   \n",
       "3            4.0                                 0.0                   8.0   \n",
       "4            4.0                                 0.0                 220.0   \n",
       "\n",
       "   finished_basement_sqft^2  finished_basement_sqft home_age  home_age^2  \n",
       "0                  284089.0                          18122.0      1156.0  \n",
       "1                  405769.0                           8281.0       169.0  \n",
       "2                  534361.0                          41667.0      3249.0  \n",
       "3                       0.0                              0.0        16.0  \n",
       "4                       0.0                              0.0     12100.0  \n",
       "\n",
       "[5 rows x 54 columns]"
      ]
     },
     "execution_count": 22,
     "metadata": {},
     "output_type": "execute_result"
    }
   ],
   "source": [
    "poly_df = pd.DataFrame(X_poly, columns=poly_feat)\n",
    "poly_df = poly_df.set_index(train.index)\n",
    "poly_df.head()"
   ]
  },
  {
   "cell_type": "code",
   "execution_count": 23,
   "metadata": {},
   "outputs": [],
   "source": [
    "train['SalePrice'] = train['SalePrice'].astype(float)"
   ]
  },
  {
   "cell_type": "markdown",
   "metadata": {},
   "source": [
    "Join `y` onto the new `poly_df` "
   ]
  },
  {
   "cell_type": "code",
   "execution_count": 24,
   "metadata": {},
   "outputs": [],
   "source": [
    "poly_df = poly_df.join(train['SalePrice'])"
   ]
  },
  {
   "cell_type": "code",
   "execution_count": 25,
   "metadata": {
    "scrolled": true
   },
   "outputs": [
    {
     "data": {
      "text/plain": [
       "SalePrice                                 0\n",
       "fireplaces lot_sq_ft                      0\n",
       "has_central_air finished_basement_sqft    0\n",
       "has_central_air garage_size               0\n",
       "has_central_air living_area_sqft          0\n",
       "dtype: int64"
      ]
     },
     "execution_count": 25,
     "metadata": {},
     "output_type": "execute_result"
    }
   ],
   "source": [
    "poly_df.isnull().sum().sort_values(ascending=False).head()"
   ]
  },
  {
   "cell_type": "code",
   "execution_count": 26,
   "metadata": {
    "scrolled": true
   },
   "outputs": [
    {
     "data": {
      "text/html": [
       "<div>\n",
       "<style scoped>\n",
       "    .dataframe tbody tr th:only-of-type {\n",
       "        vertical-align: middle;\n",
       "    }\n",
       "\n",
       "    .dataframe tbody tr th {\n",
       "        vertical-align: top;\n",
       "    }\n",
       "\n",
       "    .dataframe thead th {\n",
       "        text-align: right;\n",
       "    }\n",
       "</style>\n",
       "<table border=\"1\" class=\"dataframe\">\n",
       "  <thead>\n",
       "    <tr style=\"text-align: right;\">\n",
       "      <th></th>\n",
       "      <th>fireplaces</th>\n",
       "      <th>has_central_air</th>\n",
       "      <th>bedrooms</th>\n",
       "      <th>quality_rating</th>\n",
       "      <th>lot_sq_ft</th>\n",
       "      <th>living_area_sqft</th>\n",
       "      <th>garage_size</th>\n",
       "      <th>finished_basement_sqft</th>\n",
       "      <th>home_age</th>\n",
       "      <th>fireplaces^2</th>\n",
       "      <th>...</th>\n",
       "      <th>living_area_sqft garage_size</th>\n",
       "      <th>living_area_sqft finished_basement_sqft</th>\n",
       "      <th>living_area_sqft home_age</th>\n",
       "      <th>garage_size^2</th>\n",
       "      <th>garage_size finished_basement_sqft</th>\n",
       "      <th>garage_size home_age</th>\n",
       "      <th>finished_basement_sqft^2</th>\n",
       "      <th>finished_basement_sqft home_age</th>\n",
       "      <th>home_age^2</th>\n",
       "      <th>SalePrice</th>\n",
       "    </tr>\n",
       "  </thead>\n",
       "  <tbody>\n",
       "    <tr>\n",
       "      <th>0</th>\n",
       "      <td>0.0</td>\n",
       "      <td>1.0</td>\n",
       "      <td>3.0</td>\n",
       "      <td>6.0</td>\n",
       "      <td>13517.0</td>\n",
       "      <td>1479.0</td>\n",
       "      <td>2.0</td>\n",
       "      <td>533.0</td>\n",
       "      <td>34.0</td>\n",
       "      <td>0.0</td>\n",
       "      <td>...</td>\n",
       "      <td>2958.0</td>\n",
       "      <td>788307.0</td>\n",
       "      <td>50286.0</td>\n",
       "      <td>4.0</td>\n",
       "      <td>1066.0</td>\n",
       "      <td>68.0</td>\n",
       "      <td>284089.0</td>\n",
       "      <td>18122.0</td>\n",
       "      <td>1156.0</td>\n",
       "      <td>130500.0</td>\n",
       "    </tr>\n",
       "    <tr>\n",
       "      <th>1</th>\n",
       "      <td>1.0</td>\n",
       "      <td>1.0</td>\n",
       "      <td>4.0</td>\n",
       "      <td>7.0</td>\n",
       "      <td>11492.0</td>\n",
       "      <td>2122.0</td>\n",
       "      <td>2.0</td>\n",
       "      <td>637.0</td>\n",
       "      <td>13.0</td>\n",
       "      <td>1.0</td>\n",
       "      <td>...</td>\n",
       "      <td>4244.0</td>\n",
       "      <td>1351714.0</td>\n",
       "      <td>27586.0</td>\n",
       "      <td>4.0</td>\n",
       "      <td>1274.0</td>\n",
       "      <td>26.0</td>\n",
       "      <td>405769.0</td>\n",
       "      <td>8281.0</td>\n",
       "      <td>169.0</td>\n",
       "      <td>220000.0</td>\n",
       "    </tr>\n",
       "    <tr>\n",
       "      <th>2</th>\n",
       "      <td>0.0</td>\n",
       "      <td>1.0</td>\n",
       "      <td>3.0</td>\n",
       "      <td>5.0</td>\n",
       "      <td>7922.0</td>\n",
       "      <td>1057.0</td>\n",
       "      <td>1.0</td>\n",
       "      <td>731.0</td>\n",
       "      <td>57.0</td>\n",
       "      <td>0.0</td>\n",
       "      <td>...</td>\n",
       "      <td>1057.0</td>\n",
       "      <td>772667.0</td>\n",
       "      <td>60249.0</td>\n",
       "      <td>1.0</td>\n",
       "      <td>731.0</td>\n",
       "      <td>57.0</td>\n",
       "      <td>534361.0</td>\n",
       "      <td>41667.0</td>\n",
       "      <td>3249.0</td>\n",
       "      <td>109000.0</td>\n",
       "    </tr>\n",
       "    <tr>\n",
       "      <th>3</th>\n",
       "      <td>0.0</td>\n",
       "      <td>1.0</td>\n",
       "      <td>3.0</td>\n",
       "      <td>5.0</td>\n",
       "      <td>9802.0</td>\n",
       "      <td>1444.0</td>\n",
       "      <td>2.0</td>\n",
       "      <td>0.0</td>\n",
       "      <td>4.0</td>\n",
       "      <td>0.0</td>\n",
       "      <td>...</td>\n",
       "      <td>2888.0</td>\n",
       "      <td>0.0</td>\n",
       "      <td>5776.0</td>\n",
       "      <td>4.0</td>\n",
       "      <td>0.0</td>\n",
       "      <td>8.0</td>\n",
       "      <td>0.0</td>\n",
       "      <td>0.0</td>\n",
       "      <td>16.0</td>\n",
       "      <td>174000.0</td>\n",
       "    </tr>\n",
       "    <tr>\n",
       "      <th>4</th>\n",
       "      <td>0.0</td>\n",
       "      <td>1.0</td>\n",
       "      <td>3.0</td>\n",
       "      <td>6.0</td>\n",
       "      <td>14235.0</td>\n",
       "      <td>1445.0</td>\n",
       "      <td>2.0</td>\n",
       "      <td>0.0</td>\n",
       "      <td>110.0</td>\n",
       "      <td>0.0</td>\n",
       "      <td>...</td>\n",
       "      <td>2890.0</td>\n",
       "      <td>0.0</td>\n",
       "      <td>158950.0</td>\n",
       "      <td>4.0</td>\n",
       "      <td>0.0</td>\n",
       "      <td>220.0</td>\n",
       "      <td>0.0</td>\n",
       "      <td>0.0</td>\n",
       "      <td>12100.0</td>\n",
       "      <td>138500.0</td>\n",
       "    </tr>\n",
       "  </tbody>\n",
       "</table>\n",
       "<p>5 rows × 55 columns</p>\n",
       "</div>"
      ],
      "text/plain": [
       "   fireplaces  has_central_air  bedrooms  quality_rating  lot_sq_ft  \\\n",
       "0         0.0              1.0       3.0             6.0    13517.0   \n",
       "1         1.0              1.0       4.0             7.0    11492.0   \n",
       "2         0.0              1.0       3.0             5.0     7922.0   \n",
       "3         0.0              1.0       3.0             5.0     9802.0   \n",
       "4         0.0              1.0       3.0             6.0    14235.0   \n",
       "\n",
       "   living_area_sqft  garage_size  finished_basement_sqft  home_age  \\\n",
       "0            1479.0          2.0                   533.0      34.0   \n",
       "1            2122.0          2.0                   637.0      13.0   \n",
       "2            1057.0          1.0                   731.0      57.0   \n",
       "3            1444.0          2.0                     0.0       4.0   \n",
       "4            1445.0          2.0                     0.0     110.0   \n",
       "\n",
       "   fireplaces^2  ...  living_area_sqft garage_size  \\\n",
       "0           0.0  ...                        2958.0   \n",
       "1           1.0  ...                        4244.0   \n",
       "2           0.0  ...                        1057.0   \n",
       "3           0.0  ...                        2888.0   \n",
       "4           0.0  ...                        2890.0   \n",
       "\n",
       "   living_area_sqft finished_basement_sqft  living_area_sqft home_age  \\\n",
       "0                                 788307.0                    50286.0   \n",
       "1                                1351714.0                    27586.0   \n",
       "2                                 772667.0                    60249.0   \n",
       "3                                      0.0                     5776.0   \n",
       "4                                      0.0                   158950.0   \n",
       "\n",
       "   garage_size^2  garage_size finished_basement_sqft  garage_size home_age  \\\n",
       "0            4.0                              1066.0                  68.0   \n",
       "1            4.0                              1274.0                  26.0   \n",
       "2            1.0                               731.0                  57.0   \n",
       "3            4.0                                 0.0                   8.0   \n",
       "4            4.0                                 0.0                 220.0   \n",
       "\n",
       "   finished_basement_sqft^2  finished_basement_sqft home_age  home_age^2  \\\n",
       "0                  284089.0                          18122.0      1156.0   \n",
       "1                  405769.0                           8281.0       169.0   \n",
       "2                  534361.0                          41667.0      3249.0   \n",
       "3                       0.0                              0.0        16.0   \n",
       "4                       0.0                              0.0     12100.0   \n",
       "\n",
       "   SalePrice  \n",
       "0   130500.0  \n",
       "1   220000.0  \n",
       "2   109000.0  \n",
       "3   174000.0  \n",
       "4   138500.0  \n",
       "\n",
       "[5 rows x 55 columns]"
      ]
     },
     "execution_count": 26,
     "metadata": {},
     "output_type": "execute_result"
    }
   ],
   "source": [
    "poly_df.head()"
   ]
  },
  {
   "cell_type": "markdown",
   "metadata": {},
   "source": [
    "Check new correlations."
   ]
  },
  {
   "cell_type": "code",
   "execution_count": 27,
   "metadata": {},
   "outputs": [
    {
     "data": {
      "text/plain": [
       "<matplotlib.axes._subplots.AxesSubplot at 0x1a179c4da0>"
      ]
     },
     "execution_count": 27,
     "metadata": {},
     "output_type": "execute_result"
    },
    {
     "data": {
      "image/png": "[encoded data removed]",
      "text/plain": [
       "<Figure size 1080x1080 with 2 Axes>"
      ]
     },
     "metadata": {
      "needs_background": "light"
     },
     "output_type": "display_data"
    }
   ],
   "source": [
    "plt.figure(figsize=(15, 15))\n",
    "sns.heatmap(poly_df.corr()[['SalePrice']].sort_values('SalePrice'), annot=True, cmap='YlGnBu')"
   ]
  },
  {
   "cell_type": "markdown",
   "metadata": {},
   "source": [
    "Set new `X` for the polynomial features."
   ]
  },
  {
   "cell_type": "code",
   "execution_count": 28,
   "metadata": {},
   "outputs": [],
   "source": [
    "X = poly_df[poly_feat]"
   ]
  },
  {
   "cell_type": "markdown",
   "metadata": {},
   "source": [
    "Train Test Split"
   ]
  },
  {
   "cell_type": "code",
   "execution_count": 29,
   "metadata": {},
   "outputs": [],
   "source": [
    "X_train, X_holdout, y_train, y_holdout = train_test_split(X, y, random_state=23)"
   ]
  },
  {
   "cell_type": "markdown",
   "metadata": {},
   "source": [
    "Now we need to scale the data so that all the different units are comparable. \n",
    "___\n",
    "\n",
    "Instantiate Standard Scaler"
   ]
  },
  {
   "cell_type": "code",
   "execution_count": 30,
   "metadata": {},
   "outputs": [],
   "source": [
    "ss = StandardScaler()"
   ]
  },
  {
   "cell_type": "markdown",
   "metadata": {},
   "source": [
    "Fit & transform training data only.  Tranform holdout data."
   ]
  },
  {
   "cell_type": "code",
   "execution_count": 31,
   "metadata": {},
   "outputs": [],
   "source": [
    "X_train_sc = ss.fit_transform(X_train)\n",
    "X_holdout_sc = ss.transform(X_holdout)"
   ]
  },
  {
   "cell_type": "code",
   "execution_count": 32,
   "metadata": {},
   "outputs": [
    {
     "data": {
      "text/html": [
       "<div>\n",
       "<style scoped>\n",
       "    .dataframe tbody tr th:only-of-type {\n",
       "        vertical-align: middle;\n",
       "    }\n",
       "\n",
       "    .dataframe tbody tr th {\n",
       "        vertical-align: top;\n",
       "    }\n",
       "\n",
       "    .dataframe thead th {\n",
       "        text-align: right;\n",
       "    }\n",
       "</style>\n",
       "<table border=\"1\" class=\"dataframe\">\n",
       "  <thead>\n",
       "    <tr style=\"text-align: right;\">\n",
       "      <th></th>\n",
       "      <th>fireplaces</th>\n",
       "      <th>has_central_air</th>\n",
       "      <th>bedrooms</th>\n",
       "      <th>quality_rating</th>\n",
       "      <th>lot_sq_ft</th>\n",
       "      <th>living_area_sqft</th>\n",
       "      <th>garage_size</th>\n",
       "      <th>finished_basement_sqft</th>\n",
       "      <th>home_age</th>\n",
       "      <th>fireplaces^2</th>\n",
       "      <th>...</th>\n",
       "      <th>living_area_sqft^2</th>\n",
       "      <th>living_area_sqft garage_size</th>\n",
       "      <th>living_area_sqft finished_basement_sqft</th>\n",
       "      <th>living_area_sqft home_age</th>\n",
       "      <th>garage_size^2</th>\n",
       "      <th>garage_size finished_basement_sqft</th>\n",
       "      <th>garage_size home_age</th>\n",
       "      <th>finished_basement_sqft^2</th>\n",
       "      <th>finished_basement_sqft home_age</th>\n",
       "      <th>home_age^2</th>\n",
       "    </tr>\n",
       "  </thead>\n",
       "  <tbody>\n",
       "    <tr>\n",
       "      <th>1247</th>\n",
       "      <td>0.0</td>\n",
       "      <td>1.0</td>\n",
       "      <td>3.0</td>\n",
       "      <td>3.0</td>\n",
       "      <td>10410.0</td>\n",
       "      <td>1214.0</td>\n",
       "      <td>3.0</td>\n",
       "      <td>0.0</td>\n",
       "      <td>91.0</td>\n",
       "      <td>0.0</td>\n",
       "      <td>...</td>\n",
       "      <td>1473796.0</td>\n",
       "      <td>3642.0</td>\n",
       "      <td>0.0</td>\n",
       "      <td>110474.0</td>\n",
       "      <td>9.0</td>\n",
       "      <td>0.0</td>\n",
       "      <td>273.0</td>\n",
       "      <td>0.0</td>\n",
       "      <td>0.0</td>\n",
       "      <td>8281.0</td>\n",
       "    </tr>\n",
       "    <tr>\n",
       "      <th>1467</th>\n",
       "      <td>0.0</td>\n",
       "      <td>1.0</td>\n",
       "      <td>3.0</td>\n",
       "      <td>6.0</td>\n",
       "      <td>11660.0</td>\n",
       "      <td>1326.0</td>\n",
       "      <td>2.0</td>\n",
       "      <td>0.0</td>\n",
       "      <td>0.0</td>\n",
       "      <td>0.0</td>\n",
       "      <td>...</td>\n",
       "      <td>1758276.0</td>\n",
       "      <td>2652.0</td>\n",
       "      <td>0.0</td>\n",
       "      <td>0.0</td>\n",
       "      <td>4.0</td>\n",
       "      <td>0.0</td>\n",
       "      <td>0.0</td>\n",
       "      <td>0.0</td>\n",
       "      <td>0.0</td>\n",
       "      <td>0.0</td>\n",
       "    </tr>\n",
       "    <tr>\n",
       "      <th>493</th>\n",
       "      <td>1.0</td>\n",
       "      <td>1.0</td>\n",
       "      <td>3.0</td>\n",
       "      <td>6.0</td>\n",
       "      <td>5707.0</td>\n",
       "      <td>1242.0</td>\n",
       "      <td>1.0</td>\n",
       "      <td>0.0</td>\n",
       "      <td>74.0</td>\n",
       "      <td>1.0</td>\n",
       "      <td>...</td>\n",
       "      <td>1542564.0</td>\n",
       "      <td>1242.0</td>\n",
       "      <td>0.0</td>\n",
       "      <td>91908.0</td>\n",
       "      <td>1.0</td>\n",
       "      <td>0.0</td>\n",
       "      <td>74.0</td>\n",
       "      <td>0.0</td>\n",
       "      <td>0.0</td>\n",
       "      <td>5476.0</td>\n",
       "    </tr>\n",
       "    <tr>\n",
       "      <th>769</th>\n",
       "      <td>0.0</td>\n",
       "      <td>1.0</td>\n",
       "      <td>3.0</td>\n",
       "      <td>5.0</td>\n",
       "      <td>10172.0</td>\n",
       "      <td>874.0</td>\n",
       "      <td>1.0</td>\n",
       "      <td>441.0</td>\n",
       "      <td>38.0</td>\n",
       "      <td>0.0</td>\n",
       "      <td>...</td>\n",
       "      <td>763876.0</td>\n",
       "      <td>874.0</td>\n",
       "      <td>385434.0</td>\n",
       "      <td>33212.0</td>\n",
       "      <td>1.0</td>\n",
       "      <td>441.0</td>\n",
       "      <td>38.0</td>\n",
       "      <td>194481.0</td>\n",
       "      <td>16758.0</td>\n",
       "      <td>1444.0</td>\n",
       "    </tr>\n",
       "    <tr>\n",
       "      <th>541</th>\n",
       "      <td>1.0</td>\n",
       "      <td>1.0</td>\n",
       "      <td>1.0</td>\n",
       "      <td>9.0</td>\n",
       "      <td>4538.0</td>\n",
       "      <td>1310.0</td>\n",
       "      <td>2.0</td>\n",
       "      <td>1004.0</td>\n",
       "      <td>7.0</td>\n",
       "      <td>1.0</td>\n",
       "      <td>...</td>\n",
       "      <td>1716100.0</td>\n",
       "      <td>2620.0</td>\n",
       "      <td>1315240.0</td>\n",
       "      <td>9170.0</td>\n",
       "      <td>4.0</td>\n",
       "      <td>2008.0</td>\n",
       "      <td>14.0</td>\n",
       "      <td>1008016.0</td>\n",
       "      <td>7028.0</td>\n",
       "      <td>49.0</td>\n",
       "    </tr>\n",
       "  </tbody>\n",
       "</table>\n",
       "<p>5 rows × 54 columns</p>\n",
       "</div>"
      ],
      "text/plain": [
       "      fireplaces  has_central_air  bedrooms  quality_rating  lot_sq_ft  \\\n",
       "1247         0.0              1.0       3.0             3.0    10410.0   \n",
       "1467         0.0              1.0       3.0             6.0    11660.0   \n",
       "493          1.0              1.0       3.0             6.0     5707.0   \n",
       "769          0.0              1.0       3.0             5.0    10172.0   \n",
       "541          1.0              1.0       1.0             9.0     4538.0   \n",
       "\n",
       "      living_area_sqft  garage_size  finished_basement_sqft  home_age  \\\n",
       "1247            1214.0          3.0                     0.0      91.0   \n",
       "1467            1326.0          2.0                     0.0       0.0   \n",
       "493             1242.0          1.0                     0.0      74.0   \n",
       "769              874.0          1.0                   441.0      38.0   \n",
       "541             1310.0          2.0                  1004.0       7.0   \n",
       "\n",
       "      fireplaces^2  ...  living_area_sqft^2  living_area_sqft garage_size  \\\n",
       "1247           0.0  ...           1473796.0                        3642.0   \n",
       "1467           0.0  ...           1758276.0                        2652.0   \n",
       "493            1.0  ...           1542564.0                        1242.0   \n",
       "769            0.0  ...            763876.0                         874.0   \n",
       "541            1.0  ...           1716100.0                        2620.0   \n",
       "\n",
       "      living_area_sqft finished_basement_sqft  living_area_sqft home_age  \\\n",
       "1247                                      0.0                   110474.0   \n",
       "1467                                      0.0                        0.0   \n",
       "493                                       0.0                    91908.0   \n",
       "769                                  385434.0                    33212.0   \n",
       "541                                 1315240.0                     9170.0   \n",
       "\n",
       "      garage_size^2  garage_size finished_basement_sqft  garage_size home_age  \\\n",
       "1247            9.0                                 0.0                 273.0   \n",
       "1467            4.0                                 0.0                   0.0   \n",
       "493             1.0                                 0.0                  74.0   \n",
       "769             1.0                               441.0                  38.0   \n",
       "541             4.0                              2008.0                  14.0   \n",
       "\n",
       "      finished_basement_sqft^2  finished_basement_sqft home_age  home_age^2  \n",
       "1247                       0.0                              0.0      8281.0  \n",
       "1467                       0.0                              0.0         0.0  \n",
       "493                        0.0                              0.0      5476.0  \n",
       "769                   194481.0                          16758.0      1444.0  \n",
       "541                  1008016.0                           7028.0        49.0  \n",
       "\n",
       "[5 rows x 54 columns]"
      ]
     },
     "execution_count": 32,
     "metadata": {},
     "output_type": "execute_result"
    }
   ],
   "source": [
    "X_train.head()"
   ]
  },
  {
   "cell_type": "markdown",
   "metadata": {},
   "source": [
    "Now I will run Cross Val Score on 3 different models to see which one performs best."
   ]
  },
  {
   "cell_type": "markdown",
   "metadata": {},
   "source": [
    "Instantiate Linear Regression."
   ]
  },
  {
   "cell_type": "code",
   "execution_count": 33,
   "metadata": {},
   "outputs": [],
   "source": [
    "lr = LinearRegression()"
   ]
  },
  {
   "cell_type": "code",
   "execution_count": 34,
   "metadata": {},
   "outputs": [
    {
     "data": {
      "text/plain": [
       "0.6669535841350909"
      ]
     },
     "execution_count": 34,
     "metadata": {},
     "output_type": "execute_result"
    }
   ],
   "source": [
    "cross_val_score(lr, X_train_sc, y_train, cv=5).mean()\n"
   ]
  },
  {
   "cell_type": "code",
   "execution_count": 35,
   "metadata": {},
   "outputs": [],
   "source": [
    "# lr.fit(X_train_sc, y_train)"
   ]
  },
  {
   "cell_type": "code",
   "execution_count": 36,
   "metadata": {},
   "outputs": [],
   "source": [
    "# lr.predict(X_train_sc)"
   ]
  },
  {
   "cell_type": "code",
   "execution_count": 37,
   "metadata": {},
   "outputs": [],
   "source": [
    "# lr.score(X_train_sc, y_train)"
   ]
  },
  {
   "cell_type": "code",
   "execution_count": 38,
   "metadata": {},
   "outputs": [],
   "source": [
    "# lr.score(X_holdout_sc, y_holdout)"
   ]
  },
  {
   "cell_type": "markdown",
   "metadata": {},
   "source": [
    "Instantiate Ridge."
   ]
  },
  {
   "cell_type": "code",
   "execution_count": 39,
   "metadata": {},
   "outputs": [],
   "source": [
    "ridge = RidgeCV()"
   ]
  },
  {
   "cell_type": "code",
   "execution_count": 40,
   "metadata": {},
   "outputs": [
    {
     "data": {
      "text/plain": [
       "0.6656865455748175"
      ]
     },
     "execution_count": 40,
     "metadata": {},
     "output_type": "execute_result"
    }
   ],
   "source": [
    "cross_val_score(ridge, X_train_sc, y_train, cv=5).mean()"
   ]
  },
  {
   "cell_type": "markdown",
   "metadata": {},
   "source": [
    "Instantiate LASSO."
   ]
  },
  {
   "cell_type": "code",
   "execution_count": 41,
   "metadata": {},
   "outputs": [],
   "source": [
    "lasso = LassoCV(cv=5)"
   ]
  },
  {
   "cell_type": "code",
   "execution_count": 42,
   "metadata": {},
   "outputs": [
    {
     "data": {
      "text/plain": [
       "0.6387192361676579"
      ]
     },
     "execution_count": 42,
     "metadata": {},
     "output_type": "execute_result"
    }
   ],
   "source": [
    "cross_val_score(lasso, X_train_sc, y_train, cv=5).mean()"
   ]
  },
  {
   "cell_type": "markdown",
   "metadata": {},
   "source": [
    "Even though my LR model has the best cross val score, I am going to proceed with Lasso because I know I have way too many features right now. "
   ]
  },
  {
   "cell_type": "code",
   "execution_count": 43,
   "metadata": {
    "scrolled": true
   },
   "outputs": [
    {
     "name": "stderr",
     "output_type": "stream",
     "text": [
      "/Users/rachelkoenig/anaconda3/lib/python3.7/site-packages/sklearn/linear_model/coordinate_descent.py:492: ConvergenceWarning: Objective did not converge. You might want to increase the number of iterations. Fitting data with very small alpha may cause precision problems.\n",
      "  ConvergenceWarning)\n",
      "/Users/rachelkoenig/anaconda3/lib/python3.7/site-packages/sklearn/linear_model/coordinate_descent.py:492: ConvergenceWarning: Objective did not converge. You might want to increase the number of iterations. Fitting data with very small alpha may cause precision problems.\n",
      "  ConvergenceWarning)\n",
      "/Users/rachelkoenig/anaconda3/lib/python3.7/site-packages/sklearn/linear_model/coordinate_descent.py:492: ConvergenceWarning: Objective did not converge. You might want to increase the number of iterations. Fitting data with very small alpha may cause precision problems.\n",
      "  ConvergenceWarning)\n",
      "/Users/rachelkoenig/anaconda3/lib/python3.7/site-packages/sklearn/linear_model/coordinate_descent.py:492: ConvergenceWarning: Objective did not converge. You might want to increase the number of iterations. Fitting data with very small alpha may cause precision problems.\n",
      "  ConvergenceWarning)\n",
      "/Users/rachelkoenig/anaconda3/lib/python3.7/site-packages/sklearn/linear_model/coordinate_descent.py:492: ConvergenceWarning: Objective did not converge. You might want to increase the number of iterations. Fitting data with very small alpha may cause precision problems.\n",
      "  ConvergenceWarning)\n",
      "/Users/rachelkoenig/anaconda3/lib/python3.7/site-packages/sklearn/linear_model/coordinate_descent.py:492: ConvergenceWarning: Objective did not converge. You might want to increase the number of iterations. Fitting data with very small alpha may cause precision problems.\n",
      "  ConvergenceWarning)\n",
      "/Users/rachelkoenig/anaconda3/lib/python3.7/site-packages/sklearn/linear_model/coordinate_descent.py:492: ConvergenceWarning: Objective did not converge. You might want to increase the number of iterations. Fitting data with very small alpha may cause precision problems.\n",
      "  ConvergenceWarning)\n",
      "/Users/rachelkoenig/anaconda3/lib/python3.7/site-packages/sklearn/linear_model/coordinate_descent.py:492: ConvergenceWarning: Objective did not converge. You might want to increase the number of iterations. Fitting data with very small alpha may cause precision problems.\n",
      "  ConvergenceWarning)\n",
      "/Users/rachelkoenig/anaconda3/lib/python3.7/site-packages/sklearn/linear_model/coordinate_descent.py:492: ConvergenceWarning: Objective did not converge. You might want to increase the number of iterations. Fitting data with very small alpha may cause precision problems.\n",
      "  ConvergenceWarning)\n",
      "/Users/rachelkoenig/anaconda3/lib/python3.7/site-packages/sklearn/linear_model/coordinate_descent.py:492: ConvergenceWarning: Objective did not converge. You might want to increase the number of iterations. Fitting data with very small alpha may cause precision problems.\n",
      "  ConvergenceWarning)\n",
      "/Users/rachelkoenig/anaconda3/lib/python3.7/site-packages/sklearn/linear_model/coordinate_descent.py:492: ConvergenceWarning: Objective did not converge. You might want to increase the number of iterations. Fitting data with very small alpha may cause precision problems.\n",
      "  ConvergenceWarning)\n"
     ]
    }
   ],
   "source": [
    "#find optimal alpha.\n",
    "l_alphas=np.logspace(-3, 1, 100)\n",
    "\n",
    "lasso = LassoCV(alphas=l_alphas, cv=5)\n",
    "\n",
    "lasso = lasso.fit(X_train_sc, y_train)"
   ]
  },
  {
   "cell_type": "code",
   "execution_count": 44,
   "metadata": {},
   "outputs": [
    {
     "data": {
      "text/plain": [
       "0.001"
      ]
     },
     "execution_count": 44,
     "metadata": {},
     "output_type": "execute_result"
    }
   ],
   "source": [
    "lasso.alpha_"
   ]
  },
  {
   "cell_type": "code",
   "execution_count": 45,
   "metadata": {},
   "outputs": [
    {
     "data": {
      "text/plain": [
       "array([108922.03248014, 170177.51637316, 119556.37142346, ...,\n",
       "       118039.97044192, 196914.47901971, 252921.16734233])"
      ]
     },
     "execution_count": 45,
     "metadata": {},
     "output_type": "execute_result"
    }
   ],
   "source": [
    "y_pred_train_lasso = lasso.predict(X_train_sc)\n",
    "y_pred_train_lasso "
   ]
  },
  {
   "cell_type": "code",
   "execution_count": 46,
   "metadata": {},
   "outputs": [],
   "source": [
    "y_pred_test_lasso = lasso.predict(X_holdout_sc)"
   ]
  },
  {
   "cell_type": "code",
   "execution_count": 47,
   "metadata": {},
   "outputs": [
    {
     "data": {
      "text/plain": [
       "0.8918994438363689"
      ]
     },
     "execution_count": 47,
     "metadata": {},
     "output_type": "execute_result"
    }
   ],
   "source": [
    "lasso.score(X_train_sc, y_train)"
   ]
  },
  {
   "cell_type": "code",
   "execution_count": 48,
   "metadata": {
    "scrolled": true
   },
   "outputs": [
    {
     "data": {
      "text/plain": [
       "0.8897151383494206"
      ]
     },
     "execution_count": 48,
     "metadata": {},
     "output_type": "execute_result"
    }
   ],
   "source": [
    "lasso.score(X_holdout_sc, y_holdout)"
   ]
  },
  {
   "cell_type": "markdown",
   "metadata": {},
   "source": [
    "This R2 score on my training set tells me that 89% of the variability in the SalePrice is explained by the lasso model compared to the baseline prediction.  The fact that the R2 scores are nearly the same and both close to 1.0 tells me that the model has low variance and low bias."
   ]
  },
  {
   "cell_type": "code",
   "execution_count": 49,
   "metadata": {},
   "outputs": [
    {
     "data": {
      "text/plain": [
       "array([ -2968.39497896,  11535.4170316 ,   1462.15769657, -17634.12768272,\n",
       "        18215.63657389,   6068.78853599, -16914.01379787,  -2666.92683794,\n",
       "       -23898.08362555,  -7216.89523788,   1255.16142413, -19908.32389294,\n",
       "          993.48691874,   7301.51156895,  39232.96579384,  -8499.10767689,\n",
       "         1831.26268227,   5925.99319996,  -3407.02313987,  -2562.18599841,\n",
       "       -23486.26419412,  -6373.23955833,   8938.64111584,  -2434.84646698,\n",
       "         9768.46875283,  12930.51658057, -16054.38685103, -13814.64261996,\n",
       "        19735.98768539,  33756.03441383,  -3129.42748456,   8230.42358479,\n",
       "         8278.94005781,  29031.07062754,  13867.93052457,  43101.29043464,\n",
       "        29876.18876987,  28218.22425614,  -3702.41050044,  -6734.36142282,\n",
       "       -45899.01680131,  11309.67630132,  -5240.12911021, -10179.08812467,\n",
       "       -22274.47407904,   4509.63862085, -44284.65294053, -15400.74794289,\n",
       "         1441.16741921,   -605.40421317,    534.560203  ,   7585.64776579,\n",
       "         -763.8646907 ,  14818.06237061])"
      ]
     },
     "execution_count": 49,
     "metadata": {},
     "output_type": "execute_result"
    }
   ],
   "source": [
    "lasso.coef_"
   ]
  },
  {
   "cell_type": "code",
   "execution_count": 50,
   "metadata": {},
   "outputs": [
    {
     "data": {
      "text/plain": [
       "864      6514.392113\n",
       "317     -2644.149577\n",
       "152    -11319.679227\n",
       "28      23157.436746\n",
       "1027    -6654.276417\n",
       "Name: SalePrice, dtype: float64"
      ]
     },
     "execution_count": 50,
     "metadata": {},
     "output_type": "execute_result"
    }
   ],
   "source": [
    "residuals_lasso = y_holdout - y_pred_test_lasso\n",
    "\n",
    "residuals_lasso.head()\n",
    "\n",
    "# Xholdout[residuals]"
   ]
  },
  {
   "cell_type": "code",
   "execution_count": 51,
   "metadata": {},
   "outputs": [
    {
     "data": {
      "text/plain": [
       "<matplotlib.axes._subplots.AxesSubplot at 0x1a27f29d30>"
      ]
     },
     "execution_count": 51,
     "metadata": {},
     "output_type": "execute_result"
    },
    {
     "data": {
      "image/png": "[encoded data removed]",
      "text/plain": [
       "<Figure size 432x288 with 1 Axes>"
      ]
     },
     "metadata": {
      "needs_background": "light"
     },
     "output_type": "display_data"
    }
   ],
   "source": [
    "residuals_lasso.hist()"
   ]
  },
  {
   "cell_type": "markdown",
   "metadata": {},
   "source": [
    "Residuals have a fairly normal distribution which is one of the rules of MLR so that's good."
   ]
  },
  {
   "cell_type": "code",
   "execution_count": 52,
   "metadata": {},
   "outputs": [
    {
     "data": {
      "image/png": "[encoded data removed]",
      "text/plain": [
       "<Figure size 432x288 with 1 Axes>"
      ]
     },
     "metadata": {
      "needs_background": "light"
     },
     "output_type": "display_data"
    }
   ],
   "source": [
    "plt.scatter(y_pred_test_lasso, residuals_lasso)\n",
    "plt.title(\"Difference of Predicted and Actual Price\")\n",
    "plt.xlabel(\"Predictions\")\n",
    "plt.ylabel(\"Residuals\")\n",
    "\n",
    "plt.axhline(y=0, color='r', linestyle='-');"
   ]
  },
  {
   "cell_type": "code",
   "execution_count": 53,
   "metadata": {},
   "outputs": [
    {
     "data": {
      "text/plain": [
       "28143.485123378763"
      ]
     },
     "execution_count": 53,
     "metadata": {},
     "output_type": "execute_result"
    }
   ],
   "source": [
    "rss_lasso = (residuals_lasso**2).sum()\n",
    "\n",
    "lasso_RMSE = np.sqrt(rss_lasso / len(y_pred_test_lasso))\n",
    "lasso_RMSE"
   ]
  },
  {
   "cell_type": "markdown",
   "metadata": {},
   "source": [
    "Since my LASSO model didn't actually drive down any of my coefficients to 0, I will try Ridge now. "
   ]
  },
  {
   "cell_type": "code",
   "execution_count": 54,
   "metadata": {},
   "outputs": [
    {
     "data": {
      "text/plain": [
       "RidgeCV(alphas=array([ 0.1,  1. , 10. ]), cv=None, fit_intercept=True,\n",
       "    gcv_mode=None, normalize=False, scoring=None, store_cv_values=False)"
      ]
     },
     "execution_count": 54,
     "metadata": {},
     "output_type": "execute_result"
    }
   ],
   "source": [
    "ridge.fit(X_train_sc, y_train)"
   ]
  },
  {
   "cell_type": "code",
   "execution_count": 55,
   "metadata": {},
   "outputs": [
    {
     "data": {
      "text/plain": [
       "0.8885043327660636"
      ]
     },
     "execution_count": 55,
     "metadata": {},
     "output_type": "execute_result"
    }
   ],
   "source": [
    "ridge.score(X_train_sc, y_train)"
   ]
  },
  {
   "cell_type": "code",
   "execution_count": 56,
   "metadata": {},
   "outputs": [
    {
     "data": {
      "text/plain": [
       "0.8941638972059281"
      ]
     },
     "execution_count": 56,
     "metadata": {},
     "output_type": "execute_result"
    }
   ],
   "source": [
    "ridge.score(X_holdout_sc, y_holdout)"
   ]
  },
  {
   "cell_type": "code",
   "execution_count": 57,
   "metadata": {},
   "outputs": [],
   "source": [
    "y_pred_ridge = ridge.predict(X_holdout_sc)"
   ]
  },
  {
   "cell_type": "code",
   "execution_count": 58,
   "metadata": {
    "scrolled": true
   },
   "outputs": [
    {
     "data": {
      "text/plain": [
       "864      3578.891466\n",
       "317       796.699842\n",
       "152    -18837.109270\n",
       "28      16915.498445\n",
       "1027    -4805.408846\n",
       "Name: SalePrice, dtype: float64"
      ]
     },
     "execution_count": 58,
     "metadata": {},
     "output_type": "execute_result"
    }
   ],
   "source": [
    "residuals_ridge = y_holdout - y_pred_ridge\n",
    "\n",
    "residuals_ridge.head()"
   ]
  },
  {
   "cell_type": "code",
   "execution_count": 59,
   "metadata": {},
   "outputs": [
    {
     "data": {
      "text/plain": [
       "<matplotlib.axes._subplots.AxesSubplot at 0x1a17361438>"
      ]
     },
     "execution_count": 59,
     "metadata": {},
     "output_type": "execute_result"
    },
    {
     "data": {
      "image/png": "[encoded data removed]",
      "text/plain": [
       "<Figure size 432x288 with 1 Axes>"
      ]
     },
     "metadata": {
      "needs_background": "light"
     },
     "output_type": "display_data"
    }
   ],
   "source": [
    "residuals_ridge.hist()"
   ]
  },
  {
   "cell_type": "markdown",
   "metadata": {},
   "source": [
    "Ridge residuals have a good normal distribution however there a few outliers skewing it to the right."
   ]
  },
  {
   "cell_type": "code",
   "execution_count": 60,
   "metadata": {},
   "outputs": [
    {
     "data": {
      "image/png": "[encoded data removed]",
      "text/plain": [
       "<Figure size 720x720 with 1 Axes>"
      ]
     },
     "metadata": {
      "needs_background": "light"
     },
     "output_type": "display_data"
    }
   ],
   "source": [
    "plt.figure(figsize=(10, 10))\n",
    "plt.scatter(y_pred_ridge, residuals_ridge)\n",
    "plt.title(\"Difference of Predicted and Actual Price\", fontsize=28)\n",
    "plt.xlabel(\"Predictions\")\n",
    "plt.ylabel(\"Residuals\")\n",
    "\n",
    "plt.axhline(y=0, color='r', linestyle='-');"
   ]
  },
  {
   "cell_type": "markdown",
   "metadata": {},
   "source": [
    "There are a few outliers in the top right corner.  This tells me that the model is having a harder time predicting the price of some of the more expensive homes.  Overall, the errors are somewhat linear and normally distributed."
   ]
  },
  {
   "cell_type": "code",
   "execution_count": 61,
   "metadata": {},
   "outputs": [
    {
     "data": {
      "text/plain": [
       "27570.00502486239"
      ]
     },
     "execution_count": 61,
     "metadata": {},
     "output_type": "execute_result"
    }
   ],
   "source": [
    "rss_ridge = (residuals_ridge**2).sum()\n",
    "\n",
    "len(y_pred_ridge)\n",
    "\n",
    "ridge_RMSE = np.sqrt(rss_ridge / len(y_pred_ridge))\n",
    "ridge_RMSE"
   ]
  },
  {
   "cell_type": "markdown",
   "metadata": {},
   "source": [
    "I didn't find any optimal alpha for the ridge model on the first try so since there is still room to improve, I will try that now. "
   ]
  },
  {
   "cell_type": "code",
   "execution_count": 62,
   "metadata": {},
   "outputs": [
    {
     "name": "stderr",
     "output_type": "stream",
     "text": [
      "/Users/rachelkoenig/anaconda3/lib/python3.7/site-packages/sklearn/model_selection/_search.py:841: DeprecationWarning: The default of the `iid` parameter will change from True to False in version 0.22 and will be removed in 0.24. This will change numeric results when test-set sizes are unequal.\n",
      "  DeprecationWarning)\n"
     ]
    }
   ],
   "source": [
    "r_alphas = np.logspace(0, 5, 100)\n",
    "# Generates 100 values equally between 0 and 5,\n",
    "# then converts them to alphas between 10^0 and 10^5.\n",
    "\n",
    "# Cross-validate over our list of ridge alphas.\n",
    "ridge_model = RidgeCV(alphas=r_alphas, scoring='r2', cv=5)\n",
    "\n",
    "# Fit model using best ridge alpha!\n",
    "ridge_model = ridge_model.fit(X_train_sc, y_train)"
   ]
  },
  {
   "cell_type": "code",
   "execution_count": 63,
   "metadata": {},
   "outputs": [
    {
     "data": {
      "text/plain": [
       "1353.0477745798062"
      ]
     },
     "execution_count": 63,
     "metadata": {},
     "output_type": "execute_result"
    }
   ],
   "source": [
    "ridge_model.alpha_"
   ]
  },
  {
   "cell_type": "code",
   "execution_count": 64,
   "metadata": {},
   "outputs": [
    {
     "data": {
      "text/plain": [
       "0.820047857223856"
      ]
     },
     "execution_count": 64,
     "metadata": {},
     "output_type": "execute_result"
    }
   ],
   "source": [
    "ridge_model.score(X_train_sc, y_train)"
   ]
  },
  {
   "cell_type": "code",
   "execution_count": 65,
   "metadata": {},
   "outputs": [
    {
     "data": {
      "text/plain": [
       "0.8361574854722718"
      ]
     },
     "execution_count": 65,
     "metadata": {},
     "output_type": "execute_result"
    }
   ],
   "source": [
    "ridge_model.score(X_holdout_sc, y_holdout)"
   ]
  },
  {
   "cell_type": "markdown",
   "metadata": {},
   "source": [
    "I got a worse R2 score after finding the \"optimal ridge alpha\" so I'll keep the automatically generated one instead."
   ]
  },
  {
   "cell_type": "code",
   "execution_count": 66,
   "metadata": {},
   "outputs": [
    {
     "data": {
      "text/html": [
       "<div>\n",
       "<style scoped>\n",
       "    .dataframe tbody tr th:only-of-type {\n",
       "        vertical-align: middle;\n",
       "    }\n",
       "\n",
       "    .dataframe tbody tr th {\n",
       "        vertical-align: top;\n",
       "    }\n",
       "\n",
       "    .dataframe thead th {\n",
       "        text-align: right;\n",
       "    }\n",
       "</style>\n",
       "<table border=\"1\" class=\"dataframe\">\n",
       "  <thead>\n",
       "    <tr style=\"text-align: right;\">\n",
       "      <th></th>\n",
       "      <th>Id</th>\n",
       "      <th>PID</th>\n",
       "      <th>MS SubClass</th>\n",
       "      <th>MS Zoning</th>\n",
       "      <th>Lot Frontage</th>\n",
       "      <th>Lot Area</th>\n",
       "      <th>Street</th>\n",
       "      <th>Alley</th>\n",
       "      <th>Lot Shape</th>\n",
       "      <th>Land Contour</th>\n",
       "      <th>...</th>\n",
       "      <th>3Ssn Porch</th>\n",
       "      <th>Screen Porch</th>\n",
       "      <th>Pool Area</th>\n",
       "      <th>Pool QC</th>\n",
       "      <th>Fence</th>\n",
       "      <th>Misc Feature</th>\n",
       "      <th>Misc Val</th>\n",
       "      <th>Mo Sold</th>\n",
       "      <th>Yr Sold</th>\n",
       "      <th>Sale Type</th>\n",
       "    </tr>\n",
       "  </thead>\n",
       "  <tbody>\n",
       "    <tr>\n",
       "      <th>0</th>\n",
       "      <td>2658</td>\n",
       "      <td>902301120</td>\n",
       "      <td>190</td>\n",
       "      <td>RM</td>\n",
       "      <td>69.0</td>\n",
       "      <td>9142</td>\n",
       "      <td>Pave</td>\n",
       "      <td>Grvl</td>\n",
       "      <td>Reg</td>\n",
       "      <td>Lvl</td>\n",
       "      <td>...</td>\n",
       "      <td>0</td>\n",
       "      <td>0</td>\n",
       "      <td>0</td>\n",
       "      <td>NaN</td>\n",
       "      <td>NaN</td>\n",
       "      <td>NaN</td>\n",
       "      <td>0</td>\n",
       "      <td>4</td>\n",
       "      <td>2006</td>\n",
       "      <td>WD</td>\n",
       "    </tr>\n",
       "    <tr>\n",
       "      <th>1</th>\n",
       "      <td>2718</td>\n",
       "      <td>905108090</td>\n",
       "      <td>90</td>\n",
       "      <td>RL</td>\n",
       "      <td>NaN</td>\n",
       "      <td>9662</td>\n",
       "      <td>Pave</td>\n",
       "      <td>NaN</td>\n",
       "      <td>IR1</td>\n",
       "      <td>Lvl</td>\n",
       "      <td>...</td>\n",
       "      <td>0</td>\n",
       "      <td>0</td>\n",
       "      <td>0</td>\n",
       "      <td>NaN</td>\n",
       "      <td>NaN</td>\n",
       "      <td>NaN</td>\n",
       "      <td>0</td>\n",
       "      <td>8</td>\n",
       "      <td>2006</td>\n",
       "      <td>WD</td>\n",
       "    </tr>\n",
       "    <tr>\n",
       "      <th>2</th>\n",
       "      <td>2414</td>\n",
       "      <td>528218130</td>\n",
       "      <td>60</td>\n",
       "      <td>RL</td>\n",
       "      <td>58.0</td>\n",
       "      <td>17104</td>\n",
       "      <td>Pave</td>\n",
       "      <td>NaN</td>\n",
       "      <td>IR1</td>\n",
       "      <td>Lvl</td>\n",
       "      <td>...</td>\n",
       "      <td>0</td>\n",
       "      <td>0</td>\n",
       "      <td>0</td>\n",
       "      <td>NaN</td>\n",
       "      <td>NaN</td>\n",
       "      <td>NaN</td>\n",
       "      <td>0</td>\n",
       "      <td>9</td>\n",
       "      <td>2006</td>\n",
       "      <td>New</td>\n",
       "    </tr>\n",
       "    <tr>\n",
       "      <th>3</th>\n",
       "      <td>1989</td>\n",
       "      <td>902207150</td>\n",
       "      <td>30</td>\n",
       "      <td>RM</td>\n",
       "      <td>60.0</td>\n",
       "      <td>8520</td>\n",
       "      <td>Pave</td>\n",
       "      <td>NaN</td>\n",
       "      <td>Reg</td>\n",
       "      <td>Lvl</td>\n",
       "      <td>...</td>\n",
       "      <td>0</td>\n",
       "      <td>0</td>\n",
       "      <td>0</td>\n",
       "      <td>NaN</td>\n",
       "      <td>NaN</td>\n",
       "      <td>NaN</td>\n",
       "      <td>0</td>\n",
       "      <td>7</td>\n",
       "      <td>2007</td>\n",
       "      <td>WD</td>\n",
       "    </tr>\n",
       "    <tr>\n",
       "      <th>4</th>\n",
       "      <td>625</td>\n",
       "      <td>535105100</td>\n",
       "      <td>20</td>\n",
       "      <td>RL</td>\n",
       "      <td>NaN</td>\n",
       "      <td>9500</td>\n",
       "      <td>Pave</td>\n",
       "      <td>NaN</td>\n",
       "      <td>IR1</td>\n",
       "      <td>Lvl</td>\n",
       "      <td>...</td>\n",
       "      <td>0</td>\n",
       "      <td>185</td>\n",
       "      <td>0</td>\n",
       "      <td>NaN</td>\n",
       "      <td>NaN</td>\n",
       "      <td>NaN</td>\n",
       "      <td>0</td>\n",
       "      <td>7</td>\n",
       "      <td>2009</td>\n",
       "      <td>WD</td>\n",
       "    </tr>\n",
       "  </tbody>\n",
       "</table>\n",
       "<p>5 rows × 80 columns</p>\n",
       "</div>"
      ],
      "text/plain": [
       "     Id        PID  MS SubClass MS Zoning  Lot Frontage  Lot Area Street  \\\n",
       "0  2658  902301120          190        RM          69.0      9142   Pave   \n",
       "1  2718  905108090           90        RL           NaN      9662   Pave   \n",
       "2  2414  528218130           60        RL          58.0     17104   Pave   \n",
       "3  1989  902207150           30        RM          60.0      8520   Pave   \n",
       "4   625  535105100           20        RL           NaN      9500   Pave   \n",
       "\n",
       "  Alley Lot Shape Land Contour  ... 3Ssn Porch Screen Porch Pool Area Pool QC  \\\n",
       "0  Grvl       Reg          Lvl  ...          0            0         0     NaN   \n",
       "1   NaN       IR1          Lvl  ...          0            0         0     NaN   \n",
       "2   NaN       IR1          Lvl  ...          0            0         0     NaN   \n",
       "3   NaN       Reg          Lvl  ...          0            0         0     NaN   \n",
       "4   NaN       IR1          Lvl  ...          0          185         0     NaN   \n",
       "\n",
       "  Fence Misc Feature Misc Val Mo Sold  Yr Sold  Sale Type  \n",
       "0   NaN          NaN        0       4     2006        WD   \n",
       "1   NaN          NaN        0       8     2006        WD   \n",
       "2   NaN          NaN        0       9     2006        New  \n",
       "3   NaN          NaN        0       7     2007        WD   \n",
       "4   NaN          NaN        0       7     2009        WD   \n",
       "\n",
       "[5 rows x 80 columns]"
      ]
     },
     "execution_count": 66,
     "metadata": {},
     "output_type": "execute_result"
    }
   ],
   "source": [
    "test.head()"
   ]
  },
  {
   "cell_type": "code",
   "execution_count": 67,
   "metadata": {},
   "outputs": [],
   "source": [
    "rename_cols(test)"
   ]
  },
  {
   "cell_type": "code",
   "execution_count": 68,
   "metadata": {},
   "outputs": [],
   "source": [
    "for col in train:\n",
    "    if type(train[col])== 'int64' or 'float64':\n",
    "        train[col] = train[col].fillna(value=0)\n",
    "    else:\n",
    "        train[col] = train[col].fillna(value='None')\n",
    "        "
   ]
  },
  {
   "cell_type": "code",
   "execution_count": 69,
   "metadata": {},
   "outputs": [],
   "source": [
    "EDA(test)"
   ]
  },
  {
   "cell_type": "code",
   "execution_count": 70,
   "metadata": {},
   "outputs": [
    {
     "data": {
      "text/html": [
       "<div>\n",
       "<style scoped>\n",
       "    .dataframe tbody tr th:only-of-type {\n",
       "        vertical-align: middle;\n",
       "    }\n",
       "\n",
       "    .dataframe tbody tr th {\n",
       "        vertical-align: top;\n",
       "    }\n",
       "\n",
       "    .dataframe thead th {\n",
       "        text-align: right;\n",
       "    }\n",
       "</style>\n",
       "<table border=\"1\" class=\"dataframe\">\n",
       "  <thead>\n",
       "    <tr style=\"text-align: right;\">\n",
       "      <th></th>\n",
       "      <th>fireplaces</th>\n",
       "      <th>has_central_air</th>\n",
       "      <th>bedrooms</th>\n",
       "      <th>quality_rating</th>\n",
       "      <th>lot_sq_ft</th>\n",
       "      <th>living_area_sqft</th>\n",
       "      <th>garage_size</th>\n",
       "      <th>finished_basement_sqft</th>\n",
       "      <th>home_age</th>\n",
       "    </tr>\n",
       "  </thead>\n",
       "  <tbody>\n",
       "    <tr>\n",
       "      <th>0</th>\n",
       "      <td>0</td>\n",
       "      <td>0</td>\n",
       "      <td>4</td>\n",
       "      <td>6</td>\n",
       "      <td>9142</td>\n",
       "      <td>1928</td>\n",
       "      <td>1.0</td>\n",
       "      <td>0.0</td>\n",
       "      <td>96</td>\n",
       "    </tr>\n",
       "    <tr>\n",
       "      <th>1</th>\n",
       "      <td>0</td>\n",
       "      <td>1</td>\n",
       "      <td>6</td>\n",
       "      <td>5</td>\n",
       "      <td>9662</td>\n",
       "      <td>1967</td>\n",
       "      <td>2.0</td>\n",
       "      <td>0.0</td>\n",
       "      <td>29</td>\n",
       "    </tr>\n",
       "    <tr>\n",
       "      <th>2</th>\n",
       "      <td>1</td>\n",
       "      <td>1</td>\n",
       "      <td>3</td>\n",
       "      <td>7</td>\n",
       "      <td>17104</td>\n",
       "      <td>1496</td>\n",
       "      <td>2.0</td>\n",
       "      <td>554.0</td>\n",
       "      <td>0</td>\n",
       "    </tr>\n",
       "    <tr>\n",
       "      <th>3</th>\n",
       "      <td>0</td>\n",
       "      <td>1</td>\n",
       "      <td>2</td>\n",
       "      <td>5</td>\n",
       "      <td>8520</td>\n",
       "      <td>968</td>\n",
       "      <td>2.0</td>\n",
       "      <td>0.0</td>\n",
       "      <td>84</td>\n",
       "    </tr>\n",
       "    <tr>\n",
       "      <th>4</th>\n",
       "      <td>2</td>\n",
       "      <td>1</td>\n",
       "      <td>3</td>\n",
       "      <td>6</td>\n",
       "      <td>9500</td>\n",
       "      <td>1394</td>\n",
       "      <td>2.0</td>\n",
       "      <td>609.0</td>\n",
       "      <td>46</td>\n",
       "    </tr>\n",
       "  </tbody>\n",
       "</table>\n",
       "</div>"
      ],
      "text/plain": [
       "   fireplaces  has_central_air  bedrooms  quality_rating  lot_sq_ft  \\\n",
       "0           0                0         4               6       9142   \n",
       "1           0                1         6               5       9662   \n",
       "2           1                1         3               7      17104   \n",
       "3           0                1         2               5       8520   \n",
       "4           2                1         3               6       9500   \n",
       "\n",
       "   living_area_sqft  garage_size  finished_basement_sqft  home_age  \n",
       "0              1928          1.0                     0.0        96  \n",
       "1              1967          2.0                     0.0        29  \n",
       "2              1496          2.0                   554.0         0  \n",
       "3               968          2.0                     0.0        84  \n",
       "4              1394          2.0                   609.0        46  "
      ]
     },
     "execution_count": 70,
     "metadata": {},
     "output_type": "execute_result"
    }
   ],
   "source": [
    "X_test = test[features]\n",
    "X_test.head()"
   ]
  },
  {
   "cell_type": "code",
   "execution_count": 71,
   "metadata": {},
   "outputs": [],
   "source": [
    "X_poly_test = poly.transform(X_test)"
   ]
  },
  {
   "cell_type": "code",
   "execution_count": 72,
   "metadata": {},
   "outputs": [],
   "source": [
    "poly_df_test = pd.DataFrame(X_poly_test, columns=poly_feat)\n",
    "poly_df_test = poly_df_test.set_index(test.index)"
   ]
  },
  {
   "cell_type": "code",
   "execution_count": 73,
   "metadata": {},
   "outputs": [],
   "source": [
    "X_poly_test_sc = ss.transform(X_poly_test)"
   ]
  },
  {
   "cell_type": "code",
   "execution_count": 74,
   "metadata": {},
   "outputs": [],
   "source": [
    "y_hat = lasso.predict(X_poly_test_sc)\n",
    "y_hat_ridge = ridge.predict(X_poly_test_sc)"
   ]
  },
  {
   "cell_type": "code",
   "execution_count": 75,
   "metadata": {},
   "outputs": [
    {
     "data": {
      "text/html": [
       "<div>\n",
       "<style scoped>\n",
       "    .dataframe tbody tr th:only-of-type {\n",
       "        vertical-align: middle;\n",
       "    }\n",
       "\n",
       "    .dataframe tbody tr th {\n",
       "        vertical-align: top;\n",
       "    }\n",
       "\n",
       "    .dataframe thead th {\n",
       "        text-align: right;\n",
       "    }\n",
       "</style>\n",
       "<table border=\"1\" class=\"dataframe\">\n",
       "  <thead>\n",
       "    <tr style=\"text-align: right;\">\n",
       "      <th></th>\n",
       "      <th>fireplaces</th>\n",
       "      <th>has_central_air</th>\n",
       "      <th>bedrooms</th>\n",
       "      <th>quality_rating</th>\n",
       "      <th>lot_sq_ft</th>\n",
       "      <th>living_area_sqft</th>\n",
       "      <th>garage_size</th>\n",
       "      <th>finished_basement_sqft</th>\n",
       "      <th>home_age</th>\n",
       "      <th>fireplaces^2</th>\n",
       "      <th>...</th>\n",
       "      <th>living_area_sqft^2</th>\n",
       "      <th>living_area_sqft garage_size</th>\n",
       "      <th>living_area_sqft finished_basement_sqft</th>\n",
       "      <th>living_area_sqft home_age</th>\n",
       "      <th>garage_size^2</th>\n",
       "      <th>garage_size finished_basement_sqft</th>\n",
       "      <th>garage_size home_age</th>\n",
       "      <th>finished_basement_sqft^2</th>\n",
       "      <th>finished_basement_sqft home_age</th>\n",
       "      <th>home_age^2</th>\n",
       "    </tr>\n",
       "  </thead>\n",
       "  <tbody>\n",
       "    <tr>\n",
       "      <th>0</th>\n",
       "      <td>0.0</td>\n",
       "      <td>0.0</td>\n",
       "      <td>4.0</td>\n",
       "      <td>6.0</td>\n",
       "      <td>9142.0</td>\n",
       "      <td>1928.0</td>\n",
       "      <td>1.0</td>\n",
       "      <td>0.0</td>\n",
       "      <td>96.0</td>\n",
       "      <td>0.0</td>\n",
       "      <td>...</td>\n",
       "      <td>3717184.0</td>\n",
       "      <td>1928.0</td>\n",
       "      <td>0.0</td>\n",
       "      <td>185088.0</td>\n",
       "      <td>1.0</td>\n",
       "      <td>0.0</td>\n",
       "      <td>96.0</td>\n",
       "      <td>0.0</td>\n",
       "      <td>0.0</td>\n",
       "      <td>9216.0</td>\n",
       "    </tr>\n",
       "    <tr>\n",
       "      <th>1</th>\n",
       "      <td>0.0</td>\n",
       "      <td>1.0</td>\n",
       "      <td>6.0</td>\n",
       "      <td>5.0</td>\n",
       "      <td>9662.0</td>\n",
       "      <td>1967.0</td>\n",
       "      <td>2.0</td>\n",
       "      <td>0.0</td>\n",
       "      <td>29.0</td>\n",
       "      <td>0.0</td>\n",
       "      <td>...</td>\n",
       "      <td>3869089.0</td>\n",
       "      <td>3934.0</td>\n",
       "      <td>0.0</td>\n",
       "      <td>57043.0</td>\n",
       "      <td>4.0</td>\n",
       "      <td>0.0</td>\n",
       "      <td>58.0</td>\n",
       "      <td>0.0</td>\n",
       "      <td>0.0</td>\n",
       "      <td>841.0</td>\n",
       "    </tr>\n",
       "    <tr>\n",
       "      <th>2</th>\n",
       "      <td>1.0</td>\n",
       "      <td>1.0</td>\n",
       "      <td>3.0</td>\n",
       "      <td>7.0</td>\n",
       "      <td>17104.0</td>\n",
       "      <td>1496.0</td>\n",
       "      <td>2.0</td>\n",
       "      <td>554.0</td>\n",
       "      <td>0.0</td>\n",
       "      <td>1.0</td>\n",
       "      <td>...</td>\n",
       "      <td>2238016.0</td>\n",
       "      <td>2992.0</td>\n",
       "      <td>828784.0</td>\n",
       "      <td>0.0</td>\n",
       "      <td>4.0</td>\n",
       "      <td>1108.0</td>\n",
       "      <td>0.0</td>\n",
       "      <td>306916.0</td>\n",
       "      <td>0.0</td>\n",
       "      <td>0.0</td>\n",
       "    </tr>\n",
       "    <tr>\n",
       "      <th>3</th>\n",
       "      <td>0.0</td>\n",
       "      <td>1.0</td>\n",
       "      <td>2.0</td>\n",
       "      <td>5.0</td>\n",
       "      <td>8520.0</td>\n",
       "      <td>968.0</td>\n",
       "      <td>2.0</td>\n",
       "      <td>0.0</td>\n",
       "      <td>84.0</td>\n",
       "      <td>0.0</td>\n",
       "      <td>...</td>\n",
       "      <td>937024.0</td>\n",
       "      <td>1936.0</td>\n",
       "      <td>0.0</td>\n",
       "      <td>81312.0</td>\n",
       "      <td>4.0</td>\n",
       "      <td>0.0</td>\n",
       "      <td>168.0</td>\n",
       "      <td>0.0</td>\n",
       "      <td>0.0</td>\n",
       "      <td>7056.0</td>\n",
       "    </tr>\n",
       "    <tr>\n",
       "      <th>4</th>\n",
       "      <td>2.0</td>\n",
       "      <td>1.0</td>\n",
       "      <td>3.0</td>\n",
       "      <td>6.0</td>\n",
       "      <td>9500.0</td>\n",
       "      <td>1394.0</td>\n",
       "      <td>2.0</td>\n",
       "      <td>609.0</td>\n",
       "      <td>46.0</td>\n",
       "      <td>4.0</td>\n",
       "      <td>...</td>\n",
       "      <td>1943236.0</td>\n",
       "      <td>2788.0</td>\n",
       "      <td>848946.0</td>\n",
       "      <td>64124.0</td>\n",
       "      <td>4.0</td>\n",
       "      <td>1218.0</td>\n",
       "      <td>92.0</td>\n",
       "      <td>370881.0</td>\n",
       "      <td>28014.0</td>\n",
       "      <td>2116.0</td>\n",
       "    </tr>\n",
       "  </tbody>\n",
       "</table>\n",
       "<p>5 rows × 54 columns</p>\n",
       "</div>"
      ],
      "text/plain": [
       "   fireplaces  has_central_air  bedrooms  quality_rating  lot_sq_ft  \\\n",
       "0         0.0              0.0       4.0             6.0     9142.0   \n",
       "1         0.0              1.0       6.0             5.0     9662.0   \n",
       "2         1.0              1.0       3.0             7.0    17104.0   \n",
       "3         0.0              1.0       2.0             5.0     8520.0   \n",
       "4         2.0              1.0       3.0             6.0     9500.0   \n",
       "\n",
       "   living_area_sqft  garage_size  finished_basement_sqft  home_age  \\\n",
       "0            1928.0          1.0                     0.0      96.0   \n",
       "1            1967.0          2.0                     0.0      29.0   \n",
       "2            1496.0          2.0                   554.0       0.0   \n",
       "3             968.0          2.0                     0.0      84.0   \n",
       "4            1394.0          2.0                   609.0      46.0   \n",
       "\n",
       "   fireplaces^2  ...  living_area_sqft^2  living_area_sqft garage_size  \\\n",
       "0           0.0  ...           3717184.0                        1928.0   \n",
       "1           0.0  ...           3869089.0                        3934.0   \n",
       "2           1.0  ...           2238016.0                        2992.0   \n",
       "3           0.0  ...            937024.0                        1936.0   \n",
       "4           4.0  ...           1943236.0                        2788.0   \n",
       "\n",
       "   living_area_sqft finished_basement_sqft  living_area_sqft home_age  \\\n",
       "0                                      0.0                   185088.0   \n",
       "1                                      0.0                    57043.0   \n",
       "2                                 828784.0                        0.0   \n",
       "3                                      0.0                    81312.0   \n",
       "4                                 848946.0                    64124.0   \n",
       "\n",
       "   garage_size^2  garage_size finished_basement_sqft  garage_size home_age  \\\n",
       "0            1.0                                 0.0                  96.0   \n",
       "1            4.0                                 0.0                  58.0   \n",
       "2            4.0                              1108.0                   0.0   \n",
       "3            4.0                                 0.0                 168.0   \n",
       "4            4.0                              1218.0                  92.0   \n",
       "\n",
       "   finished_basement_sqft^2  finished_basement_sqft home_age  home_age^2  \n",
       "0                       0.0                              0.0      9216.0  \n",
       "1                       0.0                              0.0       841.0  \n",
       "2                  306916.0                              0.0         0.0  \n",
       "3                       0.0                              0.0      7056.0  \n",
       "4                  370881.0                          28014.0      2116.0  \n",
       "\n",
       "[5 rows x 54 columns]"
      ]
     },
     "execution_count": 75,
     "metadata": {},
     "output_type": "execute_result"
    }
   ],
   "source": [
    "poly_df_test.head()"
   ]
  },
  {
   "cell_type": "code",
   "execution_count": 76,
   "metadata": {},
   "outputs": [
    {
     "data": {
      "text/html": [
       "<div>\n",
       "<style scoped>\n",
       "    .dataframe tbody tr th:only-of-type {\n",
       "        vertical-align: middle;\n",
       "    }\n",
       "\n",
       "    .dataframe tbody tr th {\n",
       "        vertical-align: top;\n",
       "    }\n",
       "\n",
       "    .dataframe thead th {\n",
       "        text-align: right;\n",
       "    }\n",
       "</style>\n",
       "<table border=\"1\" class=\"dataframe\">\n",
       "  <thead>\n",
       "    <tr style=\"text-align: right;\">\n",
       "      <th></th>\n",
       "      <th>Id</th>\n",
       "      <th>SalePrice</th>\n",
       "    </tr>\n",
       "  </thead>\n",
       "  <tbody>\n",
       "    <tr>\n",
       "      <th>0</th>\n",
       "      <td>2658</td>\n",
       "      <td>127176.797378</td>\n",
       "    </tr>\n",
       "    <tr>\n",
       "      <th>1</th>\n",
       "      <td>2718</td>\n",
       "      <td>144930.117356</td>\n",
       "    </tr>\n",
       "    <tr>\n",
       "      <th>2</th>\n",
       "      <td>2414</td>\n",
       "      <td>235673.290665</td>\n",
       "    </tr>\n",
       "    <tr>\n",
       "      <th>3</th>\n",
       "      <td>1989</td>\n",
       "      <td>105434.887475</td>\n",
       "    </tr>\n",
       "    <tr>\n",
       "      <th>4</th>\n",
       "      <td>625</td>\n",
       "      <td>155212.931430</td>\n",
       "    </tr>\n",
       "  </tbody>\n",
       "</table>\n",
       "</div>"
      ],
      "text/plain": [
       "     Id      SalePrice\n",
       "0  2658  127176.797378\n",
       "1  2718  144930.117356\n",
       "2  2414  235673.290665\n",
       "3  1989  105434.887475\n",
       "4   625  155212.931430"
      ]
     },
     "execution_count": 76,
     "metadata": {},
     "output_type": "execute_result"
    }
   ],
   "source": [
    "pf_submission_df = pd.DataFrame({\n",
    "    'Id': test['Id'],\n",
    "    'SalePrice': y_hat   \n",
    "})\n",
    "pf_submission_df.head()"
   ]
  },
  {
   "cell_type": "code",
   "execution_count": 77,
   "metadata": {},
   "outputs": [],
   "source": [
    "pf_submission_df.to_csv('data/submission5.csv', index=False)"
   ]
  },
  {
   "cell_type": "code",
   "execution_count": 78,
   "metadata": {},
   "outputs": [
    {
     "data": {
      "text/html": [
       "<div>\n",
       "<style scoped>\n",
       "    .dataframe tbody tr th:only-of-type {\n",
       "        vertical-align: middle;\n",
       "    }\n",
       "\n",
       "    .dataframe tbody tr th {\n",
       "        vertical-align: top;\n",
       "    }\n",
       "\n",
       "    .dataframe thead th {\n",
       "        text-align: right;\n",
       "    }\n",
       "</style>\n",
       "<table border=\"1\" class=\"dataframe\">\n",
       "  <thead>\n",
       "    <tr style=\"text-align: right;\">\n",
       "      <th></th>\n",
       "      <th>Id</th>\n",
       "      <th>SalePrice</th>\n",
       "    </tr>\n",
       "  </thead>\n",
       "  <tbody>\n",
       "    <tr>\n",
       "      <th>0</th>\n",
       "      <td>2658</td>\n",
       "      <td>126856.075484</td>\n",
       "    </tr>\n",
       "    <tr>\n",
       "      <th>1</th>\n",
       "      <td>2718</td>\n",
       "      <td>147200.521992</td>\n",
       "    </tr>\n",
       "    <tr>\n",
       "      <th>2</th>\n",
       "      <td>2414</td>\n",
       "      <td>238027.696719</td>\n",
       "    </tr>\n",
       "    <tr>\n",
       "      <th>3</th>\n",
       "      <td>1989</td>\n",
       "      <td>102189.429632</td>\n",
       "    </tr>\n",
       "    <tr>\n",
       "      <th>4</th>\n",
       "      <td>625</td>\n",
       "      <td>165151.510172</td>\n",
       "    </tr>\n",
       "  </tbody>\n",
       "</table>\n",
       "</div>"
      ],
      "text/plain": [
       "     Id      SalePrice\n",
       "0  2658  126856.075484\n",
       "1  2718  147200.521992\n",
       "2  2414  238027.696719\n",
       "3  1989  102189.429632\n",
       "4   625  165151.510172"
      ]
     },
     "execution_count": 78,
     "metadata": {},
     "output_type": "execute_result"
    }
   ],
   "source": [
    "pf_submission2_df = pd.DataFrame({\n",
    "    'Id': test['Id'],\n",
    "    'SalePrice': y_hat_ridge   \n",
    "})\n",
    "pf_submission2_df.head()"
   ]
  },
  {
   "cell_type": "code",
   "execution_count": 79,
   "metadata": {},
   "outputs": [],
   "source": [
    "pf_submission2_df.to_csv('data/submission7.csv', index=False)"
   ]
  },
  {
   "cell_type": "markdown",
   "metadata": {},
   "source": [
    "Add the residuals the my holdout"
   ]
  },
  {
   "cell_type": "code",
   "execution_count": 80,
   "metadata": {
    "scrolled": true
   },
   "outputs": [
    {
     "name": "stderr",
     "output_type": "stream",
     "text": [
      "/Users/rachelkoenig/anaconda3/lib/python3.7/site-packages/ipykernel_launcher.py:1: SettingWithCopyWarning: \n",
      "A value is trying to be set on a copy of a slice from a DataFrame.\n",
      "Try using .loc[row_indexer,col_indexer] = value instead\n",
      "\n",
      "See the caveats in the documentation: http://pandas.pydata.org/pandas-docs/stable/indexing.html#indexing-view-versus-copy\n",
      "  \"\"\"Entry point for launching an IPython kernel.\n"
     ]
    },
    {
     "data": {
      "text/plain": [
       "(513, 55)"
      ]
     },
     "execution_count": 80,
     "metadata": {},
     "output_type": "execute_result"
    }
   ],
   "source": [
    "X_holdout['residuals'] = pd.Series.to_frame(residuals_ridge)\n",
    "X_holdout.shape\n"
   ]
  },
  {
   "cell_type": "code",
   "execution_count": 81,
   "metadata": {
    "scrolled": true
   },
   "outputs": [
    {
     "data": {
      "text/html": [
       "<div>\n",
       "<style scoped>\n",
       "    .dataframe tbody tr th:only-of-type {\n",
       "        vertical-align: middle;\n",
       "    }\n",
       "\n",
       "    .dataframe tbody tr th {\n",
       "        vertical-align: top;\n",
       "    }\n",
       "\n",
       "    .dataframe thead th {\n",
       "        text-align: right;\n",
       "    }\n",
       "</style>\n",
       "<table border=\"1\" class=\"dataframe\">\n",
       "  <thead>\n",
       "    <tr style=\"text-align: right;\">\n",
       "      <th></th>\n",
       "      <th>fireplaces</th>\n",
       "      <th>has_central_air</th>\n",
       "      <th>bedrooms</th>\n",
       "      <th>quality_rating</th>\n",
       "      <th>lot_sq_ft</th>\n",
       "      <th>living_area_sqft</th>\n",
       "      <th>garage_size</th>\n",
       "      <th>finished_basement_sqft</th>\n",
       "      <th>home_age</th>\n",
       "      <th>fireplaces^2</th>\n",
       "      <th>...</th>\n",
       "      <th>living_area_sqft garage_size</th>\n",
       "      <th>living_area_sqft finished_basement_sqft</th>\n",
       "      <th>living_area_sqft home_age</th>\n",
       "      <th>garage_size^2</th>\n",
       "      <th>garage_size finished_basement_sqft</th>\n",
       "      <th>garage_size home_age</th>\n",
       "      <th>finished_basement_sqft^2</th>\n",
       "      <th>finished_basement_sqft home_age</th>\n",
       "      <th>home_age^2</th>\n",
       "      <th>residuals</th>\n",
       "    </tr>\n",
       "  </thead>\n",
       "  <tbody>\n",
       "    <tr>\n",
       "      <th>151</th>\n",
       "      <td>1.0</td>\n",
       "      <td>1.0</td>\n",
       "      <td>4.0</td>\n",
       "      <td>9.0</td>\n",
       "      <td>16056.0</td>\n",
       "      <td>2868.0</td>\n",
       "      <td>3.0</td>\n",
       "      <td>240.0</td>\n",
       "      <td>1.0</td>\n",
       "      <td>1.0</td>\n",
       "      <td>...</td>\n",
       "      <td>8604.0</td>\n",
       "      <td>688320.0</td>\n",
       "      <td>2868.0</td>\n",
       "      <td>9.0</td>\n",
       "      <td>720.0</td>\n",
       "      <td>3.0</td>\n",
       "      <td>57600.0</td>\n",
       "      <td>240.0</td>\n",
       "      <td>1.0</td>\n",
       "      <td>158379.960738</td>\n",
       "    </tr>\n",
       "    <tr>\n",
       "      <th>1671</th>\n",
       "      <td>2.0</td>\n",
       "      <td>1.0</td>\n",
       "      <td>2.0</td>\n",
       "      <td>9.0</td>\n",
       "      <td>12919.0</td>\n",
       "      <td>2364.0</td>\n",
       "      <td>3.0</td>\n",
       "      <td>2188.0</td>\n",
       "      <td>1.0</td>\n",
       "      <td>4.0</td>\n",
       "      <td>...</td>\n",
       "      <td>7092.0</td>\n",
       "      <td>5172432.0</td>\n",
       "      <td>2364.0</td>\n",
       "      <td>9.0</td>\n",
       "      <td>6564.0</td>\n",
       "      <td>3.0</td>\n",
       "      <td>4787344.0</td>\n",
       "      <td>2188.0</td>\n",
       "      <td>1.0</td>\n",
       "      <td>188196.868870</td>\n",
       "    </tr>\n",
       "    <tr>\n",
       "      <th>823</th>\n",
       "      <td>1.0</td>\n",
       "      <td>1.0</td>\n",
       "      <td>4.0</td>\n",
       "      <td>8.0</td>\n",
       "      <td>53504.0</td>\n",
       "      <td>3279.0</td>\n",
       "      <td>3.0</td>\n",
       "      <td>1416.0</td>\n",
       "      <td>7.0</td>\n",
       "      <td>1.0</td>\n",
       "      <td>...</td>\n",
       "      <td>9837.0</td>\n",
       "      <td>4643064.0</td>\n",
       "      <td>22953.0</td>\n",
       "      <td>9.0</td>\n",
       "      <td>4248.0</td>\n",
       "      <td>21.0</td>\n",
       "      <td>2005056.0</td>\n",
       "      <td>9912.0</td>\n",
       "      <td>49.0</td>\n",
       "      <td>142286.539069</td>\n",
       "    </tr>\n",
       "  </tbody>\n",
       "</table>\n",
       "<p>3 rows × 55 columns</p>\n",
       "</div>"
      ],
      "text/plain": [
       "      fireplaces  has_central_air  bedrooms  quality_rating  lot_sq_ft  \\\n",
       "151          1.0              1.0       4.0             9.0    16056.0   \n",
       "1671         2.0              1.0       2.0             9.0    12919.0   \n",
       "823          1.0              1.0       4.0             8.0    53504.0   \n",
       "\n",
       "      living_area_sqft  garage_size  finished_basement_sqft  home_age  \\\n",
       "151             2868.0          3.0                   240.0       1.0   \n",
       "1671            2364.0          3.0                  2188.0       1.0   \n",
       "823             3279.0          3.0                  1416.0       7.0   \n",
       "\n",
       "      fireplaces^2  ...  living_area_sqft garage_size  \\\n",
       "151            1.0  ...                        8604.0   \n",
       "1671           4.0  ...                        7092.0   \n",
       "823            1.0  ...                        9837.0   \n",
       "\n",
       "      living_area_sqft finished_basement_sqft  living_area_sqft home_age  \\\n",
       "151                                  688320.0                     2868.0   \n",
       "1671                                5172432.0                     2364.0   \n",
       "823                                 4643064.0                    22953.0   \n",
       "\n",
       "      garage_size^2  garage_size finished_basement_sqft  garage_size home_age  \\\n",
       "151             9.0                               720.0                   3.0   \n",
       "1671            9.0                              6564.0                   3.0   \n",
       "823             9.0                              4248.0                  21.0   \n",
       "\n",
       "      finished_basement_sqft^2  finished_basement_sqft home_age  home_age^2  \\\n",
       "151                    57600.0                            240.0         1.0   \n",
       "1671                 4787344.0                           2188.0         1.0   \n",
       "823                  2005056.0                           9912.0        49.0   \n",
       "\n",
       "          residuals  \n",
       "151   158379.960738  \n",
       "1671  188196.868870  \n",
       "823   142286.539069  \n",
       "\n",
       "[3 rows x 55 columns]"
      ]
     },
     "execution_count": 81,
     "metadata": {},
     "output_type": "execute_result"
    }
   ],
   "source": [
    "X_holdout[X_holdout['residuals'] >= 140000]"
   ]
  },
  {
   "cell_type": "code",
   "execution_count": 82,
   "metadata": {},
   "outputs": [
    {
     "data": {
      "text/plain": [
       "1671    611657.0\n",
       "1964    591587.0\n",
       "1692    584500.0\n",
       "1796    582933.0\n",
       "151     556581.0\n",
       "1164    555000.0\n",
       "623     552000.0\n",
       "138     545224.0\n",
       "823     538000.0\n",
       "1592    535000.0\n",
       "81      501837.0\n",
       "800     500067.0\n",
       "1227    500000.0\n",
       "1700    485000.0\n",
       "1035    475000.0\n",
       "Name: SalePrice, dtype: float64"
      ]
     },
     "execution_count": 82,
     "metadata": {},
     "output_type": "execute_result"
    }
   ],
   "source": [
    "train['SalePrice'].sort_values(ascending=False).head(15)"
   ]
  },
  {
   "cell_type": "code",
   "execution_count": 83,
   "metadata": {},
   "outputs": [
    {
     "data": {
      "text/html": [
       "<div>\n",
       "<style scoped>\n",
       "    .dataframe tbody tr th:only-of-type {\n",
       "        vertical-align: middle;\n",
       "    }\n",
       "\n",
       "    .dataframe tbody tr th {\n",
       "        vertical-align: top;\n",
       "    }\n",
       "\n",
       "    .dataframe thead th {\n",
       "        text-align: right;\n",
       "    }\n",
       "</style>\n",
       "<table border=\"1\" class=\"dataframe\">\n",
       "  <thead>\n",
       "    <tr style=\"text-align: right;\">\n",
       "      <th></th>\n",
       "      <th>Id</th>\n",
       "      <th>parcel_id</th>\n",
       "      <th>ms_subclass</th>\n",
       "      <th>lot_frontage</th>\n",
       "      <th>lot_sq_ft</th>\n",
       "      <th>paved_street</th>\n",
       "      <th>quality_rating</th>\n",
       "      <th>condition_rating</th>\n",
       "      <th>year_built</th>\n",
       "      <th>year_renovation</th>\n",
       "      <th>...</th>\n",
       "      <th>screen_porch_sqft</th>\n",
       "      <th>pool_size</th>\n",
       "      <th>misc_value</th>\n",
       "      <th>month_sold</th>\n",
       "      <th>year_sold</th>\n",
       "      <th>SalePrice</th>\n",
       "      <th>baths</th>\n",
       "      <th>finished_basement_sqft</th>\n",
       "      <th>home_age</th>\n",
       "      <th>newly_renovated</th>\n",
       "    </tr>\n",
       "  </thead>\n",
       "  <tbody>\n",
       "    <tr>\n",
       "      <th>count</th>\n",
       "      <td>13.000000</td>\n",
       "      <td>1.300000e+01</td>\n",
       "      <td>13.000000</td>\n",
       "      <td>13.000000</td>\n",
       "      <td>13.000000</td>\n",
       "      <td>13.0</td>\n",
       "      <td>13.000000</td>\n",
       "      <td>13.0</td>\n",
       "      <td>13.000000</td>\n",
       "      <td>13.000000</td>\n",
       "      <td>...</td>\n",
       "      <td>13.000000</td>\n",
       "      <td>13.0</td>\n",
       "      <td>13.0</td>\n",
       "      <td>13.000000</td>\n",
       "      <td>13.000000</td>\n",
       "      <td>13.000000</td>\n",
       "      <td>13.000000</td>\n",
       "      <td>13.000000</td>\n",
       "      <td>13.000000</td>\n",
       "      <td>13.000000</td>\n",
       "    </tr>\n",
       "    <tr>\n",
       "      <th>mean</th>\n",
       "      <td>1121.538462</td>\n",
       "      <td>5.277291e+08</td>\n",
       "      <td>38.461538</td>\n",
       "      <td>83.384615</td>\n",
       "      <td>21450.692308</td>\n",
       "      <td>1.0</td>\n",
       "      <td>9.307692</td>\n",
       "      <td>5.0</td>\n",
       "      <td>2005.076923</td>\n",
       "      <td>2005.692308</td>\n",
       "      <td>...</td>\n",
       "      <td>84.923077</td>\n",
       "      <td>0.0</td>\n",
       "      <td>0.0</td>\n",
       "      <td>5.461538</td>\n",
       "      <td>2008.000000</td>\n",
       "      <td>550337.384615</td>\n",
       "      <td>3.653846</td>\n",
       "      <td>1326.846154</td>\n",
       "      <td>2.923077</td>\n",
       "      <td>0.076923</td>\n",
       "    </tr>\n",
       "    <tr>\n",
       "      <th>std</th>\n",
       "      <td>1011.601586</td>\n",
       "      <td>5.005838e+05</td>\n",
       "      <td>20.754981</td>\n",
       "      <td>24.312337</td>\n",
       "      <td>13970.650554</td>\n",
       "      <td>0.0</td>\n",
       "      <td>0.630425</td>\n",
       "      <td>0.0</td>\n",
       "      <td>4.112208</td>\n",
       "      <td>4.049375</td>\n",
       "      <td>...</td>\n",
       "      <td>116.866349</td>\n",
       "      <td>0.0</td>\n",
       "      <td>0.0</td>\n",
       "      <td>2.366974</td>\n",
       "      <td>1.683251</td>\n",
       "      <td>36034.145535</td>\n",
       "      <td>0.515777</td>\n",
       "      <td>803.027900</td>\n",
       "      <td>3.946761</td>\n",
       "      <td>0.277350</td>\n",
       "    </tr>\n",
       "    <tr>\n",
       "      <th>min</th>\n",
       "      <td>16.000000</td>\n",
       "      <td>5.272100e+08</td>\n",
       "      <td>20.000000</td>\n",
       "      <td>47.000000</td>\n",
       "      <td>12919.000000</td>\n",
       "      <td>1.0</td>\n",
       "      <td>8.000000</td>\n",
       "      <td>5.0</td>\n",
       "      <td>1993.000000</td>\n",
       "      <td>1994.000000</td>\n",
       "      <td>...</td>\n",
       "      <td>0.000000</td>\n",
       "      <td>0.0</td>\n",
       "      <td>0.0</td>\n",
       "      <td>1.000000</td>\n",
       "      <td>2006.000000</td>\n",
       "      <td>500000.000000</td>\n",
       "      <td>3.000000</td>\n",
       "      <td>0.000000</td>\n",
       "      <td>0.000000</td>\n",
       "      <td>0.000000</td>\n",
       "    </tr>\n",
       "    <tr>\n",
       "      <th>25%</th>\n",
       "      <td>367.000000</td>\n",
       "      <td>5.272141e+08</td>\n",
       "      <td>20.000000</td>\n",
       "      <td>60.000000</td>\n",
       "      <td>14836.000000</td>\n",
       "      <td>1.0</td>\n",
       "      <td>9.000000</td>\n",
       "      <td>5.0</td>\n",
       "      <td>2004.000000</td>\n",
       "      <td>2005.000000</td>\n",
       "      <td>...</td>\n",
       "      <td>0.000000</td>\n",
       "      <td>0.0</td>\n",
       "      <td>0.0</td>\n",
       "      <td>4.000000</td>\n",
       "      <td>2006.000000</td>\n",
       "      <td>535000.000000</td>\n",
       "      <td>3.500000</td>\n",
       "      <td>1101.000000</td>\n",
       "      <td>1.000000</td>\n",
       "      <td>0.000000</td>\n",
       "    </tr>\n",
       "    <tr>\n",
       "      <th>50%</th>\n",
       "      <td>457.000000</td>\n",
       "      <td>5.281060e+08</td>\n",
       "      <td>20.000000</td>\n",
       "      <td>85.000000</td>\n",
       "      <td>16056.000000</td>\n",
       "      <td>1.0</td>\n",
       "      <td>9.000000</td>\n",
       "      <td>5.0</td>\n",
       "      <td>2006.000000</td>\n",
       "      <td>2006.000000</td>\n",
       "      <td>...</td>\n",
       "      <td>0.000000</td>\n",
       "      <td>0.0</td>\n",
       "      <td>0.0</td>\n",
       "      <td>6.000000</td>\n",
       "      <td>2009.000000</td>\n",
       "      <td>552000.000000</td>\n",
       "      <td>3.500000</td>\n",
       "      <td>1416.000000</td>\n",
       "      <td>1.000000</td>\n",
       "      <td>0.000000</td>\n",
       "    </tr>\n",
       "    <tr>\n",
       "      <th>75%</th>\n",
       "      <td>2331.000000</td>\n",
       "      <td>5.281501e+08</td>\n",
       "      <td>60.000000</td>\n",
       "      <td>105.000000</td>\n",
       "      <td>17423.000000</td>\n",
       "      <td>1.0</td>\n",
       "      <td>10.000000</td>\n",
       "      <td>5.0</td>\n",
       "      <td>2008.000000</td>\n",
       "      <td>2008.000000</td>\n",
       "      <td>...</td>\n",
       "      <td>192.000000</td>\n",
       "      <td>0.0</td>\n",
       "      <td>0.0</td>\n",
       "      <td>7.000000</td>\n",
       "      <td>2009.000000</td>\n",
       "      <td>582933.000000</td>\n",
       "      <td>3.500000</td>\n",
       "      <td>1904.000000</td>\n",
       "      <td>5.000000</td>\n",
       "      <td>0.000000</td>\n",
       "    </tr>\n",
       "    <tr>\n",
       "      <th>max</th>\n",
       "      <td>2451.000000</td>\n",
       "      <td>5.283600e+08</td>\n",
       "      <td>60.000000</td>\n",
       "      <td>114.000000</td>\n",
       "      <td>53504.000000</td>\n",
       "      <td>1.0</td>\n",
       "      <td>10.000000</td>\n",
       "      <td>5.0</td>\n",
       "      <td>2009.000000</td>\n",
       "      <td>2010.000000</td>\n",
       "      <td>...</td>\n",
       "      <td>322.000000</td>\n",
       "      <td>0.0</td>\n",
       "      <td>0.0</td>\n",
       "      <td>9.000000</td>\n",
       "      <td>2010.000000</td>\n",
       "      <td>611657.000000</td>\n",
       "      <td>4.500000</td>\n",
       "      <td>2306.000000</td>\n",
       "      <td>13.000000</td>\n",
       "      <td>1.000000</td>\n",
       "    </tr>\n",
       "  </tbody>\n",
       "</table>\n",
       "<p>8 rows × 38 columns</p>\n",
       "</div>"
      ],
      "text/plain": [
       "                Id     parcel_id  ms_subclass  lot_frontage     lot_sq_ft  \\\n",
       "count    13.000000  1.300000e+01    13.000000     13.000000     13.000000   \n",
       "mean   1121.538462  5.277291e+08    38.461538     83.384615  21450.692308   \n",
       "std    1011.601586  5.005838e+05    20.754981     24.312337  13970.650554   \n",
       "min      16.000000  5.272100e+08    20.000000     47.000000  12919.000000   \n",
       "25%     367.000000  5.272141e+08    20.000000     60.000000  14836.000000   \n",
       "50%     457.000000  5.281060e+08    20.000000     85.000000  16056.000000   \n",
       "75%    2331.000000  5.281501e+08    60.000000    105.000000  17423.000000   \n",
       "max    2451.000000  5.283600e+08    60.000000    114.000000  53504.000000   \n",
       "\n",
       "       paved_street  quality_rating  condition_rating   year_built  \\\n",
       "count          13.0       13.000000              13.0    13.000000   \n",
       "mean            1.0        9.307692               5.0  2005.076923   \n",
       "std             0.0        0.630425               0.0     4.112208   \n",
       "min             1.0        8.000000               5.0  1993.000000   \n",
       "25%             1.0        9.000000               5.0  2004.000000   \n",
       "50%             1.0        9.000000               5.0  2006.000000   \n",
       "75%             1.0       10.000000               5.0  2008.000000   \n",
       "max             1.0       10.000000               5.0  2009.000000   \n",
       "\n",
       "       year_renovation  ...  screen_porch_sqft  pool_size  misc_value  \\\n",
       "count        13.000000  ...          13.000000       13.0        13.0   \n",
       "mean       2005.692308  ...          84.923077        0.0         0.0   \n",
       "std           4.049375  ...         116.866349        0.0         0.0   \n",
       "min        1994.000000  ...           0.000000        0.0         0.0   \n",
       "25%        2005.000000  ...           0.000000        0.0         0.0   \n",
       "50%        2006.000000  ...           0.000000        0.0         0.0   \n",
       "75%        2008.000000  ...         192.000000        0.0         0.0   \n",
       "max        2010.000000  ...         322.000000        0.0         0.0   \n",
       "\n",
       "       month_sold    year_sold      SalePrice      baths  \\\n",
       "count   13.000000    13.000000      13.000000  13.000000   \n",
       "mean     5.461538  2008.000000  550337.384615   3.653846   \n",
       "std      2.366974     1.683251   36034.145535   0.515777   \n",
       "min      1.000000  2006.000000  500000.000000   3.000000   \n",
       "25%      4.000000  2006.000000  535000.000000   3.500000   \n",
       "50%      6.000000  2009.000000  552000.000000   3.500000   \n",
       "75%      7.000000  2009.000000  582933.000000   3.500000   \n",
       "max      9.000000  2010.000000  611657.000000   4.500000   \n",
       "\n",
       "       finished_basement_sqft   home_age  newly_renovated  \n",
       "count               13.000000  13.000000        13.000000  \n",
       "mean              1326.846154   2.923077         0.076923  \n",
       "std                803.027900   3.946761         0.277350  \n",
       "min                  0.000000   0.000000         0.000000  \n",
       "25%               1101.000000   1.000000         0.000000  \n",
       "50%               1416.000000   1.000000         0.000000  \n",
       "75%               1904.000000   5.000000         0.000000  \n",
       "max               2306.000000  13.000000         1.000000  \n",
       "\n",
       "[8 rows x 38 columns]"
      ]
     },
     "execution_count": 83,
     "metadata": {},
     "output_type": "execute_result"
    }
   ],
   "source": [
    "train[train['SalePrice'] >= 500000].describe()"
   ]
  },
  {
   "cell_type": "code",
   "execution_count": 84,
   "metadata": {},
   "outputs": [
    {
     "data": {
      "text/html": [
       "<div>\n",
       "<style scoped>\n",
       "    .dataframe tbody tr th:only-of-type {\n",
       "        vertical-align: middle;\n",
       "    }\n",
       "\n",
       "    .dataframe tbody tr th {\n",
       "        vertical-align: top;\n",
       "    }\n",
       "\n",
       "    .dataframe thead th {\n",
       "        text-align: right;\n",
       "    }\n",
       "</style>\n",
       "<table border=\"1\" class=\"dataframe\">\n",
       "  <thead>\n",
       "    <tr style=\"text-align: right;\">\n",
       "      <th></th>\n",
       "      <th>neighborhood</th>\n",
       "    </tr>\n",
       "  </thead>\n",
       "  <tbody>\n",
       "    <tr>\n",
       "      <th>81</th>\n",
       "      <td>StoneBr</td>\n",
       "    </tr>\n",
       "    <tr>\n",
       "      <th>138</th>\n",
       "      <td>StoneBr</td>\n",
       "    </tr>\n",
       "    <tr>\n",
       "      <th>151</th>\n",
       "      <td>StoneBr</td>\n",
       "    </tr>\n",
       "    <tr>\n",
       "      <th>623</th>\n",
       "      <td>NridgHt</td>\n",
       "    </tr>\n",
       "    <tr>\n",
       "      <th>800</th>\n",
       "      <td>NridgHt</td>\n",
       "    </tr>\n",
       "    <tr>\n",
       "      <th>823</th>\n",
       "      <td>StoneBr</td>\n",
       "    </tr>\n",
       "    <tr>\n",
       "      <th>1164</th>\n",
       "      <td>NridgHt</td>\n",
       "    </tr>\n",
       "    <tr>\n",
       "      <th>1227</th>\n",
       "      <td>NridgHt</td>\n",
       "    </tr>\n",
       "    <tr>\n",
       "      <th>1592</th>\n",
       "      <td>StoneBr</td>\n",
       "    </tr>\n",
       "    <tr>\n",
       "      <th>1671</th>\n",
       "      <td>NridgHt</td>\n",
       "    </tr>\n",
       "    <tr>\n",
       "      <th>1692</th>\n",
       "      <td>NoRidge</td>\n",
       "    </tr>\n",
       "    <tr>\n",
       "      <th>1796</th>\n",
       "      <td>NridgHt</td>\n",
       "    </tr>\n",
       "    <tr>\n",
       "      <th>1964</th>\n",
       "      <td>StoneBr</td>\n",
       "    </tr>\n",
       "  </tbody>\n",
       "</table>\n",
       "</div>"
      ],
      "text/plain": [
       "     neighborhood\n",
       "81        StoneBr\n",
       "138       StoneBr\n",
       "151       StoneBr\n",
       "623       NridgHt\n",
       "800       NridgHt\n",
       "823       StoneBr\n",
       "1164      NridgHt\n",
       "1227      NridgHt\n",
       "1592      StoneBr\n",
       "1671      NridgHt\n",
       "1692      NoRidge\n",
       "1796      NridgHt\n",
       "1964      StoneBr"
      ]
     },
     "execution_count": 84,
     "metadata": {},
     "output_type": "execute_result"
    }
   ],
   "source": [
    "train.loc[train['SalePrice'] >= 500000, ['neighborhood']]"
   ]
  },
  {
   "cell_type": "code",
   "execution_count": 85,
   "metadata": {},
   "outputs": [
    {
     "data": {
      "text/plain": [
       "NAmes      310\n",
       "CollgCr    180\n",
       "OldTown    163\n",
       "Edwards    143\n",
       "Somerst    130\n",
       "NridgHt    122\n",
       "Gilbert    116\n",
       "Sawyer     111\n",
       "SawyerW     87\n",
       "NWAmes      87\n",
       "Mitchel     82\n",
       "BrkSide     76\n",
       "Crawfor     71\n",
       "IDOTRR      69\n",
       "NoRidge     48\n",
       "Timber      48\n",
       "StoneBr     38\n",
       "SWISU       32\n",
       "ClearCr     27\n",
       "MeadowV     24\n",
       "Blmngtn     22\n",
       "BrDale      19\n",
       "NPkVill     17\n",
       "Veenker     17\n",
       "Blueste      6\n",
       "Greens       3\n",
       "GrnHill      2\n",
       "Landmrk      1\n",
       "Name: neighborhood, dtype: int64"
      ]
     },
     "execution_count": 85,
     "metadata": {},
     "output_type": "execute_result"
    }
   ],
   "source": [
    "train['neighborhood'].value_counts()"
   ]
  },
  {
   "cell_type": "markdown",
   "metadata": {},
   "source": [
    "I found a correlation between high priced homes and neighborhoods, however, since this is a categorical feature, I cannot easitly add it on to my scaled polynomial features. "
   ]
  },
  {
   "cell_type": "code",
   "execution_count": 86,
   "metadata": {},
   "outputs": [
    {
     "data": {
      "text/html": [
       "<div>\n",
       "<style scoped>\n",
       "    .dataframe tbody tr th:only-of-type {\n",
       "        vertical-align: middle;\n",
       "    }\n",
       "\n",
       "    .dataframe tbody tr th {\n",
       "        vertical-align: top;\n",
       "    }\n",
       "\n",
       "    .dataframe thead th {\n",
       "        text-align: right;\n",
       "    }\n",
       "</style>\n",
       "<table border=\"1\" class=\"dataframe\">\n",
       "  <thead>\n",
       "    <tr style=\"text-align: right;\">\n",
       "      <th></th>\n",
       "      <th>pool_quality</th>\n",
       "    </tr>\n",
       "  </thead>\n",
       "  <tbody>\n",
       "    <tr>\n",
       "      <th>81</th>\n",
       "      <td>0</td>\n",
       "    </tr>\n",
       "    <tr>\n",
       "      <th>138</th>\n",
       "      <td>0</td>\n",
       "    </tr>\n",
       "    <tr>\n",
       "      <th>151</th>\n",
       "      <td>0</td>\n",
       "    </tr>\n",
       "    <tr>\n",
       "      <th>623</th>\n",
       "      <td>0</td>\n",
       "    </tr>\n",
       "    <tr>\n",
       "      <th>800</th>\n",
       "      <td>0</td>\n",
       "    </tr>\n",
       "    <tr>\n",
       "      <th>823</th>\n",
       "      <td>0</td>\n",
       "    </tr>\n",
       "    <tr>\n",
       "      <th>1164</th>\n",
       "      <td>0</td>\n",
       "    </tr>\n",
       "    <tr>\n",
       "      <th>1227</th>\n",
       "      <td>0</td>\n",
       "    </tr>\n",
       "    <tr>\n",
       "      <th>1592</th>\n",
       "      <td>0</td>\n",
       "    </tr>\n",
       "    <tr>\n",
       "      <th>1671</th>\n",
       "      <td>0</td>\n",
       "    </tr>\n",
       "    <tr>\n",
       "      <th>1692</th>\n",
       "      <td>0</td>\n",
       "    </tr>\n",
       "    <tr>\n",
       "      <th>1796</th>\n",
       "      <td>0</td>\n",
       "    </tr>\n",
       "    <tr>\n",
       "      <th>1964</th>\n",
       "      <td>0</td>\n",
       "    </tr>\n",
       "  </tbody>\n",
       "</table>\n",
       "</div>"
      ],
      "text/plain": [
       "     pool_quality\n",
       "81              0\n",
       "138             0\n",
       "151             0\n",
       "623             0\n",
       "800             0\n",
       "823             0\n",
       "1164            0\n",
       "1227            0\n",
       "1592            0\n",
       "1671            0\n",
       "1692            0\n",
       "1796            0\n",
       "1964            0"
      ]
     },
     "execution_count": 86,
     "metadata": {},
     "output_type": "execute_result"
    }
   ],
   "source": [
    "train.loc[train['SalePrice'] >= 500000, ['pool_quality']]"
   ]
  },
  {
   "cell_type": "code",
   "execution_count": 87,
   "metadata": {},
   "outputs": [
    {
     "data": {
      "text/html": [
       "<div>\n",
       "<style scoped>\n",
       "    .dataframe tbody tr th:only-of-type {\n",
       "        vertical-align: middle;\n",
       "    }\n",
       "\n",
       "    .dataframe tbody tr th {\n",
       "        vertical-align: top;\n",
       "    }\n",
       "\n",
       "    .dataframe thead th {\n",
       "        text-align: right;\n",
       "    }\n",
       "</style>\n",
       "<table border=\"1\" class=\"dataframe\">\n",
       "  <thead>\n",
       "    <tr style=\"text-align: right;\">\n",
       "      <th></th>\n",
       "      <th>misc_value</th>\n",
       "    </tr>\n",
       "  </thead>\n",
       "  <tbody>\n",
       "    <tr>\n",
       "      <th>81</th>\n",
       "      <td>0</td>\n",
       "    </tr>\n",
       "    <tr>\n",
       "      <th>138</th>\n",
       "      <td>0</td>\n",
       "    </tr>\n",
       "    <tr>\n",
       "      <th>151</th>\n",
       "      <td>0</td>\n",
       "    </tr>\n",
       "    <tr>\n",
       "      <th>623</th>\n",
       "      <td>0</td>\n",
       "    </tr>\n",
       "    <tr>\n",
       "      <th>800</th>\n",
       "      <td>0</td>\n",
       "    </tr>\n",
       "    <tr>\n",
       "      <th>823</th>\n",
       "      <td>0</td>\n",
       "    </tr>\n",
       "    <tr>\n",
       "      <th>1164</th>\n",
       "      <td>0</td>\n",
       "    </tr>\n",
       "    <tr>\n",
       "      <th>1227</th>\n",
       "      <td>0</td>\n",
       "    </tr>\n",
       "    <tr>\n",
       "      <th>1592</th>\n",
       "      <td>0</td>\n",
       "    </tr>\n",
       "    <tr>\n",
       "      <th>1671</th>\n",
       "      <td>0</td>\n",
       "    </tr>\n",
       "    <tr>\n",
       "      <th>1692</th>\n",
       "      <td>0</td>\n",
       "    </tr>\n",
       "    <tr>\n",
       "      <th>1796</th>\n",
       "      <td>0</td>\n",
       "    </tr>\n",
       "    <tr>\n",
       "      <th>1964</th>\n",
       "      <td>0</td>\n",
       "    </tr>\n",
       "  </tbody>\n",
       "</table>\n",
       "</div>"
      ],
      "text/plain": [
       "      misc_value\n",
       "81             0\n",
       "138            0\n",
       "151            0\n",
       "623            0\n",
       "800            0\n",
       "823            0\n",
       "1164           0\n",
       "1227           0\n",
       "1592           0\n",
       "1671           0\n",
       "1692           0\n",
       "1796           0\n",
       "1964           0"
      ]
     },
     "execution_count": 87,
     "metadata": {},
     "output_type": "execute_result"
    }
   ],
   "source": [
    "train.loc[train['SalePrice'] >= 500000, ['misc_value']]"
   ]
  },
  {
   "cell_type": "markdown",
   "metadata": {},
   "source": [
    "I check to see if the numerical features, Pool Quality and/or Misc Value have any correlation to the high priced homes and am very surprised to see none of them have either. "
   ]
  },
  {
   "cell_type": "markdown",
   "metadata": {},
   "source": [
    "### Executive Summary\n",
    "\n",
    "I am confident with my model.  It has a high accuracy score that is similar for the both the train and test data.  Therefore, I have low variance and low bias.  There are a few outliers that tell me the model is not scoring as well on a few high price homes so there is still room to improve.  With more time and resources I would dive deeper into the categorical feature, neighboorhoods because I found that houses over $500,000 were all in only two places.  "
   ]
  }
 ],
 "metadata": {
  "kernelspec": {
   "display_name": "Python 3",
   "language": "python",
   "name": "python3"
  },
  "language_info": {
   "codemirror_mode": {
    "name": "ipython",
    "version": 3
   },
   "file_extension": ".py",
   "mimetype": "text/x-python",
   "name": "python",
   "nbconvert_exporter": "python",
   "pygments_lexer": "ipython3",
   "version": "3.7.3"
  }
 },
 "nbformat": 4,
 "nbformat_minor": 2
}
